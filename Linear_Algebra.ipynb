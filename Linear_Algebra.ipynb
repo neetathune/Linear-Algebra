{
 "cells": [
  {
   "cell_type": "markdown",
   "metadata": {},
   "source": [
    "## Import Libraries"
   ]
  },
  {
   "cell_type": "code",
   "execution_count": 1,
   "metadata": {},
   "outputs": [],
   "source": [
    "# import libraries\n",
    "import numpy as np\n",
    "import matplotlib.pyplot as plt"
   ]
  },
  {
   "cell_type": "markdown",
   "metadata": {},
   "source": [
    "## Load Dataset"
   ]
  },
  {
   "cell_type": "code",
   "execution_count": null,
   "metadata": {},
   "outputs": [],
   "source": [
    "import pandas as pd\n",
    "df = pd.read_csv(\"Iris.csv\")\n",
    "df.columns"
   ]
  },
  {
   "cell_type": "code",
   "execution_count": null,
   "metadata": {},
   "outputs": [],
   "source": [
    "X = df.drop(columns=['Id','Species'])\n",
    "y = df.Species"
   ]
  },
  {
   "cell_type": "code",
   "execution_count": null,
   "metadata": {},
   "outputs": [],
   "source": [
    "y"
   ]
  },
  {
   "cell_type": "code",
   "execution_count": null,
   "metadata": {},
   "outputs": [],
   "source": [
    "# load Iris dataset from sklearn\n",
    "from sklearn.datasets import load_iris\n",
    "data = load_iris()\n",
    "X, y = data.data, data.target\n",
    "feature_names = data.feature_names\n",
    "target_names = data.target_names\n",
    "print(target_names)"
   ]
  },
  {
   "cell_type": "code",
   "execution_count": null,
   "metadata": {},
   "outputs": [],
   "source": [
    "X.shape"
   ]
  },
  {
   "cell_type": "code",
   "execution_count": 8,
   "metadata": {},
   "outputs": [
    {
     "data": {
      "text/plain": [
       "array([4.9, 3. , 1.4, 0.2])"
      ]
     },
     "execution_count": 8,
     "metadata": {},
     "output_type": "execute_result"
    }
   ],
   "source": [
    "X[1]"
   ]
  },
  {
   "cell_type": "code",
   "execution_count": 9,
   "metadata": {},
   "outputs": [],
   "source": [
    "v1 = X[0]\n",
    "v2 = X[1]\n",
    "v3 = X[2]"
   ]
  },
  {
   "cell_type": "code",
   "execution_count": 10,
   "metadata": {},
   "outputs": [
    {
     "data": {
      "text/plain": [
       "array([14.7,  9.7,  4.1,  0.6])"
      ]
     },
     "execution_count": 10,
     "metadata": {},
     "output_type": "execute_result"
    }
   ],
   "source": [
    "v1 + (v2 + v3)"
   ]
  },
  {
   "cell_type": "code",
   "execution_count": 10,
   "metadata": {},
   "outputs": [
    {
     "data": {
      "text/plain": [
       "array([14.7,  9.7,  4.1,  0.6])"
      ]
     },
     "execution_count": 10,
     "metadata": {},
     "output_type": "execute_result"
    }
   ],
   "source": [
    "(v1 + v2) + v3"
   ]
  },
  {
   "cell_type": "code",
   "execution_count": 11,
   "metadata": {},
   "outputs": [
    {
     "data": {
      "text/plain": [
       "array([0., 0., 0., 0.])"
      ]
     },
     "execution_count": 11,
     "metadata": {},
     "output_type": "execute_result"
    }
   ],
   "source": [
    "v1 + (-1 * v1)"
   ]
  },
  {
   "cell_type": "code",
   "execution_count": 12,
   "metadata": {},
   "outputs": [
    {
     "data": {
      "text/plain": [
       "array([0., 0., 0., 0.])"
      ]
     },
     "execution_count": 12,
     "metadata": {},
     "output_type": "execute_result"
    }
   ],
   "source": [
    "0 * v1"
   ]
  },
  {
   "cell_type": "code",
   "execution_count": 13,
   "metadata": {},
   "outputs": [
    {
     "data": {
      "text/plain": [
       "array([30.6, 21. ,  8.4,  1.2])"
      ]
     },
     "execution_count": 13,
     "metadata": {},
     "output_type": "execute_result"
    }
   ],
   "source": [
    "2 * (3*v1)"
   ]
  },
  {
   "cell_type": "code",
   "execution_count": 14,
   "metadata": {},
   "outputs": [
    {
     "data": {
      "text/plain": [
       "array([25.5, 17.5,  7. ,  1. ])"
      ]
     },
     "execution_count": 14,
     "metadata": {},
     "output_type": "execute_result"
    }
   ],
   "source": [
    "(2 + 3)*v1"
   ]
  },
  {
   "cell_type": "code",
   "execution_count": 15,
   "metadata": {},
   "outputs": [
    {
     "data": {
      "text/plain": [
       "array([25.5, 17.5,  7. ,  1. ])"
      ]
     },
     "execution_count": 15,
     "metadata": {},
     "output_type": "execute_result"
    }
   ],
   "source": [
    "2 * v1 + 3 * v1 "
   ]
  },
  {
   "cell_type": "markdown",
   "metadata": {},
   "source": [
    "## Visualize vectors "
   ]
  },
  {
   "cell_type": "code",
   "execution_count": 16,
   "metadata": {},
   "outputs": [],
   "source": [
    "## 2-d visualization\n",
    "v11 = v1[:2]\n",
    "v22 = v2[:2]"
   ]
  },
  {
   "cell_type": "code",
   "execution_count": 17,
   "metadata": {},
   "outputs": [
    {
     "data": {
      "text/plain": [
       "array([5.1, 3.5])"
      ]
     },
     "execution_count": 17,
     "metadata": {},
     "output_type": "execute_result"
    }
   ],
   "source": [
    "v11"
   ]
  },
  {
   "cell_type": "code",
   "execution_count": 18,
   "metadata": {},
   "outputs": [
    {
     "data": {
      "text/plain": [
       "array([4.9, 3. ])"
      ]
     },
     "execution_count": 18,
     "metadata": {},
     "output_type": "execute_result"
    }
   ],
   "source": [
    "v22"
   ]
  },
  {
   "cell_type": "code",
   "execution_count": 19,
   "metadata": {},
   "outputs": [
    {
     "data": {
      "image/png": "[encoded data removed]",
      "text/plain": [
       "<Figure size 432x288 with 1 Axes>"
      ]
     },
     "metadata": {
      "needs_background": "light"
     },
     "output_type": "display_data"
    }
   ],
   "source": [
    "x, y = zip(v11, v22)\n",
    "subplot = plt.subplot()\n",
    "subplot.scatter(x,y)\n",
    "subplot.arrow(0,0,v11[0],v11[1],head_length=0.3,head_width=0.2,color='blue',length_includes_head=True)\n",
    "subplot.arrow(0,0,v22[0],v22[1],head_length=0.3,head_width=0.2,color='red',length_includes_head=True)\n",
    "subplot.grid()\n",
    "plt.show()"
   ]
  },
  {
   "cell_type": "code",
   "execution_count": 20,
   "metadata": {},
   "outputs": [
    {
     "data": {
      "image/png": "[encoded data removed]",
      "text/plain": [
       "<Figure size 432x288 with 1 Axes>"
      ]
     },
     "metadata": {
      "needs_background": "light"
     },
     "output_type": "display_data"
    }
   ],
   "source": [
    "x, y = X[:,0], X[:,2] \n",
    "subplot = plt.subplot()\n",
    "subplot.scatter(x,y)\n",
    "subplot.grid()\n",
    "plt.show()"
   ]
  },
  {
   "cell_type": "code",
   "execution_count": 21,
   "metadata": {},
   "outputs": [
    {
     "data": {
      "image/png": "[encoded data removed]",
      "text/plain": [
       "<Figure size 432x288 with 1 Axes>"
      ]
     },
     "metadata": {
      "needs_background": "light"
     },
     "output_type": "display_data"
    }
   ],
   "source": [
    "## 3-d visualization\n",
    "x, y, z = X[:,0], X[:,1], X[:,2]\n",
    "subplot = plt.subplot(projection='3d')\n",
    "subplot.scatter(x,y,z)\n",
    "plt.show()"
   ]
  },
  {
   "cell_type": "markdown",
   "metadata": {},
   "source": [
    "## Norm of a vector"
   ]
  },
  {
   "cell_type": "code",
   "execution_count": 22,
   "metadata": {},
   "outputs": [],
   "source": [
    "def my_norm(vector, p=2):\n",
    "    s = 0\n",
    "    for i in range(len(vector)):\n",
    "        s += vector[i]**p\n",
    "    return s**(1/p)"
   ]
  },
  {
   "cell_type": "code",
   "execution_count": 23,
   "metadata": {},
   "outputs": [
    {
     "data": {
      "text/plain": [
       "array([5.1, 3.5, 1.4, 0.2])"
      ]
     },
     "execution_count": 23,
     "metadata": {},
     "output_type": "execute_result"
    }
   ],
   "source": [
    "X[0]"
   ]
  },
  {
   "cell_type": "code",
   "execution_count": 24,
   "metadata": {},
   "outputs": [
    {
     "data": {
      "text/plain": [
       "6.345076831686122"
      ]
     },
     "execution_count": 24,
     "metadata": {},
     "output_type": "execute_result"
    }
   ],
   "source": [
    "my_norm(X[0])"
   ]
  },
  {
   "cell_type": "code",
   "execution_count": 25,
   "metadata": {},
   "outputs": [
    {
     "data": {
      "text/plain": [
       "4.58257569495584"
      ]
     },
     "execution_count": 25,
     "metadata": {},
     "output_type": "execute_result"
    }
   ],
   "source": [
    "x = np.array([1, -2, 4])\n",
    "my_norm(x)"
   ]
  },
  {
   "cell_type": "code",
   "execution_count": 26,
   "metadata": {},
   "outputs": [
    {
     "data": {
      "text/plain": [
       "4.795831523312719"
      ]
     },
     "execution_count": 26,
     "metadata": {},
     "output_type": "execute_result"
    }
   ],
   "source": [
    "x = [4 , -4, -1, 2]\n",
    "p = 4\n",
    "my_norm(x, p=4)"
   ]
  },
  {
   "cell_type": "code",
   "execution_count": 27,
   "metadata": {},
   "outputs": [
    {
     "data": {
      "text/plain": [
       "4.795831523312719"
      ]
     },
     "execution_count": 27,
     "metadata": {},
     "output_type": "execute_result"
    }
   ],
   "source": [
    "np.linalg.norm(x,4)"
   ]
  },
  {
   "cell_type": "markdown",
   "metadata": {},
   "source": [
    "## Dot Product of vectors"
   ]
  },
  {
   "cell_type": "code",
   "execution_count": 28,
   "metadata": {},
   "outputs": [],
   "source": [
    "def inner_product(vector1,vector2):\n",
    "    s = 0\n",
    "    for i in range(len(vector1)):\n",
    "        s += vector1[i]*vector2[i]\n",
    "    return s"
   ]
  },
  {
   "cell_type": "code",
   "execution_count": 29,
   "metadata": {},
   "outputs": [
    {
     "data": {
      "text/plain": [
       "37.489999999999995"
      ]
     },
     "execution_count": 29,
     "metadata": {},
     "output_type": "execute_result"
    }
   ],
   "source": [
    "inner_product(X[0],X[1])"
   ]
  },
  {
   "cell_type": "code",
   "execution_count": 30,
   "metadata": {},
   "outputs": [
    {
     "data": {
      "text/plain": [
       "37.489999999999995"
      ]
     },
     "execution_count": 30,
     "metadata": {},
     "output_type": "execute_result"
    }
   ],
   "source": [
    "np.dot(X[0],X[1])"
   ]
  },
  {
   "cell_type": "code",
   "execution_count": 31,
   "metadata": {},
   "outputs": [
    {
     "data": {
      "text/plain": [
       "37.489999999999995"
      ]
     },
     "execution_count": 31,
     "metadata": {},
     "output_type": "execute_result"
    }
   ],
   "source": [
    "X[0].dot(X[1])"
   ]
  },
  {
   "cell_type": "markdown",
   "metadata": {},
   "source": [
    "## Calculate angle between vectors"
   ]
  },
  {
   "cell_type": "code",
   "execution_count": 32,
   "metadata": {},
   "outputs": [],
   "source": [
    "def cal_angle(vector1, vector2):\n",
    "    prod = inner_product(vector1,vector2)\n",
    "    n1 = my_norm(vector1)\n",
    "    n2 = my_norm(vector2)\n",
    "    theta = np.arccos(prod/(n1*n2))\n",
    "    return theta * 180 / np.pi"
   ]
  },
  {
   "cell_type": "code",
   "execution_count": 33,
   "metadata": {},
   "outputs": [
    {
     "data": {
      "text/plain": [
       "38.2029290645368"
      ]
     },
     "execution_count": 33,
     "metadata": {},
     "output_type": "execute_result"
    }
   ],
   "source": [
    "x = [1,-1,2]\n",
    "y = [5,2,7]\n",
    "cal_angle(x,y)"
   ]
  },
  {
   "cell_type": "code",
   "execution_count": 34,
   "metadata": {},
   "outputs": [
    {
     "data": {
      "text/plain": [
       "90.0"
      ]
     },
     "execution_count": 34,
     "metadata": {},
     "output_type": "execute_result"
    }
   ],
   "source": [
    "x = [0,5,0]\n",
    "y = [1,0,0]\n",
    "cal_angle(x,y)"
   ]
  },
  {
   "cell_type": "markdown",
   "metadata": {},
   "source": [
    "## Unit vectors"
   ]
  },
  {
   "cell_type": "code",
   "execution_count": 35,
   "metadata": {},
   "outputs": [
    {
     "data": {
      "text/plain": [
       "array([ 0.32163376,  0.75047877,  0.53605627, -0.21442251])"
      ]
     },
     "execution_count": 35,
     "metadata": {},
     "output_type": "execute_result"
    }
   ],
   "source": [
    "x = np.array([3,7,5,-2])\n",
    "x_unit = x / np.linalg.norm(x)\n",
    "x_unit"
   ]
  },
  {
   "cell_type": "code",
   "execution_count": 36,
   "metadata": {},
   "outputs": [
    {
     "data": {
      "text/plain": [
       "1.0"
      ]
     },
     "execution_count": 36,
     "metadata": {},
     "output_type": "execute_result"
    }
   ],
   "source": [
    "np.linalg.norm(x_unit)"
   ]
  },
  {
   "cell_type": "code",
   "execution_count": 37,
   "metadata": {},
   "outputs": [
    {
     "data": {
      "text/plain": [
       "array([0.80377277, 0.55160877, 0.22064351, 0.0315205 ])"
      ]
     },
     "execution_count": 37,
     "metadata": {},
     "output_type": "execute_result"
    }
   ],
   "source": [
    "unit_vector_X =  X[0]/ np.linalg.norm(X[0])\n",
    "unit_vector_X"
   ]
  },
  {
   "cell_type": "markdown",
   "metadata": {},
   "source": [
    "## Calculate distance between vectors "
   ]
  },
  {
   "cell_type": "code",
   "execution_count": 38,
   "metadata": {},
   "outputs": [],
   "source": [
    "## Euclidean distance\n",
    "\n",
    "def euclidean_distance(vector1, vector2):\n",
    "    s = 0\n",
    "    for i in range(len(vector1)):\n",
    "        s += (vector2[i] - vector1[i])**2\n",
    "    return s**0.5"
   ]
  },
  {
   "cell_type": "code",
   "execution_count": 39,
   "metadata": {},
   "outputs": [
    {
     "data": {
      "text/plain": [
       "0.5385164807134502"
      ]
     },
     "execution_count": 39,
     "metadata": {},
     "output_type": "execute_result"
    }
   ],
   "source": [
    "euclidean_distance(vector1=X[0],vector2=X[1])"
   ]
  },
  {
   "cell_type": "code",
   "execution_count": 40,
   "metadata": {},
   "outputs": [
    {
     "data": {
      "text/plain": [
       "0.5385164807134502"
      ]
     },
     "execution_count": 40,
     "metadata": {},
     "output_type": "execute_result"
    }
   ],
   "source": [
    "euclidean_distance(vector1=X[1],vector2=X[0])"
   ]
  },
  {
   "cell_type": "code",
   "execution_count": 41,
   "metadata": {},
   "outputs": [],
   "source": [
    "x, y, z = X[0], X[1], X[1]\n",
    "distxy = euclidean_distance(x,y)\n",
    "distyz = euclidean_distance(y,z)\n",
    "distxz = euclidean_distance(x,z)"
   ]
  },
  {
   "cell_type": "code",
   "execution_count": 42,
   "metadata": {},
   "outputs": [
    {
     "data": {
      "text/plain": [
       "0.5385164807134502"
      ]
     },
     "execution_count": 42,
     "metadata": {},
     "output_type": "execute_result"
    }
   ],
   "source": [
    "distxy "
   ]
  },
  {
   "cell_type": "code",
   "execution_count": 43,
   "metadata": {},
   "outputs": [
    {
     "data": {
      "text/plain": [
       "0.5385164807134502"
      ]
     },
     "execution_count": 43,
     "metadata": {},
     "output_type": "execute_result"
    }
   ],
   "source": [
    "distyz + distxz"
   ]
  },
  {
   "cell_type": "code",
   "execution_count": 44,
   "metadata": {},
   "outputs": [],
   "source": [
    "## Manhattan distance\n",
    "\n",
    "def manhattan_distance(vector1,vector2):\n",
    "    s = 0\n",
    "    for i in range(len(vector1)):\n",
    "        s += abs(vector1[i] - vector2[i])\n",
    "    return s"
   ]
  },
  {
   "cell_type": "code",
   "execution_count": 45,
   "metadata": {},
   "outputs": [
    {
     "data": {
      "text/plain": [
       "0.6999999999999993"
      ]
     },
     "execution_count": 45,
     "metadata": {},
     "output_type": "execute_result"
    }
   ],
   "source": [
    "manhattan_distance(X[0],X[1])"
   ]
  },
  {
   "cell_type": "code",
   "execution_count": 46,
   "metadata": {},
   "outputs": [
    {
     "data": {
      "text/plain": [
       "0.6999999999999993"
      ]
     },
     "execution_count": 46,
     "metadata": {},
     "output_type": "execute_result"
    }
   ],
   "source": [
    "manhattan_distance(X[1],X[0])"
   ]
  },
  {
   "cell_type": "code",
   "execution_count": 47,
   "metadata": {},
   "outputs": [],
   "source": [
    "x, y, z = X[0], X[1], X[2]\n",
    "distxy = manhattan_distance(x,y)\n",
    "distyz = manhattan_distance(y,z)\n",
    "distxz = manhattan_distance(x,z)"
   ]
  },
  {
   "cell_type": "code",
   "execution_count": 48,
   "metadata": {},
   "outputs": [
    {
     "data": {
      "text/plain": [
       "0.6999999999999993"
      ]
     },
     "execution_count": 48,
     "metadata": {},
     "output_type": "execute_result"
    }
   ],
   "source": [
    "distxy"
   ]
  },
  {
   "cell_type": "code",
   "execution_count": 49,
   "metadata": {},
   "outputs": [
    {
     "data": {
      "text/plain": [
       "1.2999999999999994"
      ]
     },
     "execution_count": 49,
     "metadata": {},
     "output_type": "execute_result"
    }
   ],
   "source": [
    "distxz + distyz"
   ]
  },
  {
   "cell_type": "code",
   "execution_count": 50,
   "metadata": {},
   "outputs": [
    {
     "name": "stdout",
     "output_type": "stream",
     "text": [
      "(50, 4) (50, 4) (50, 4)\n"
     ]
    }
   ],
   "source": [
    "## Exercise\n",
    "X_0, X_1, X_2 = X[:50,:], X[50:100,:], X[100:,:]\n",
    "print(X_0.shape, X_1.shape, X_2.shape)"
   ]
  },
  {
   "cell_type": "code",
   "execution_count": 51,
   "metadata": {},
   "outputs": [],
   "source": [
    "dist11 = euclidean_distance(X_0[0],X_0[1])\n",
    "dist22 = euclidean_distance(X_1[0],X_1[1])\n",
    "dist33 = euclidean_distance(X_2[0],X_2[1])"
   ]
  },
  {
   "cell_type": "code",
   "execution_count": 52,
   "metadata": {},
   "outputs": [
    {
     "name": "stdout",
     "output_type": "stream",
     "text": [
      "0.5385164807134502 0.6403124237432847 1.3341664064126335\n"
     ]
    }
   ],
   "source": [
    "print(dist11, dist22, dist33)"
   ]
  },
  {
   "cell_type": "code",
   "execution_count": 53,
   "metadata": {},
   "outputs": [],
   "source": [
    "dist12 = euclidean_distance(X_0[0],X_1[0])\n",
    "dist23 = euclidean_distance(X_1[0],X_2[0])\n",
    "dist31 = euclidean_distance(X_2[0],X_0[0])"
   ]
  },
  {
   "cell_type": "code",
   "execution_count": 54,
   "metadata": {},
   "outputs": [
    {
     "name": "stdout",
     "output_type": "stream",
     "text": [
      "4.003748243833521 1.8439088914585773 5.2848841046895245\n"
     ]
    }
   ],
   "source": [
    "print(dist12,dist23,dist31)"
   ]
  },
  {
   "cell_type": "code",
   "execution_count": 55,
   "metadata": {},
   "outputs": [],
   "source": [
    "dist11 = manhattan_distance(X_0[0],X_0[1])\n",
    "dist22 = manhattan_distance(X_1[0],X_1[1])\n",
    "dist33 = manhattan_distance(X_2[0],X_2[1])"
   ]
  },
  {
   "cell_type": "code",
   "execution_count": 56,
   "metadata": {},
   "outputs": [
    {
     "name": "stdout",
     "output_type": "stream",
     "text": [
      "0.6999999999999993 0.8999999999999999 2.6\n"
     ]
    }
   ],
   "source": [
    "print(dist11, dist22, dist33)"
   ]
  },
  {
   "cell_type": "code",
   "execution_count": 57,
   "metadata": {},
   "outputs": [],
   "source": [
    "dist12 = manhattan_distance(X_0[0],X_1[0])\n",
    "dist23 = manhattan_distance(X_1[0],X_2[0])\n",
    "dist31 = manhattan_distance(X_2[0],X_0[0])"
   ]
  },
  {
   "cell_type": "code",
   "execution_count": 58,
   "metadata": {},
   "outputs": [
    {
     "name": "stdout",
     "output_type": "stream",
     "text": [
      "6.7 3.1999999999999997 8.3\n"
     ]
    }
   ],
   "source": [
    "print(dist12,dist23,dist31)"
   ]
  },
  {
   "cell_type": "code",
   "execution_count": 59,
   "metadata": {},
   "outputs": [
    {
     "name": "stdout",
     "output_type": "stream",
     "text": [
      "Euclidean Distance 7.0710678118654755\n",
      "Manhattan Distance 12\n"
     ]
    }
   ],
   "source": [
    "x = [5,2,7]\n",
    "y = [1,-1,2]\n",
    "print(\"Euclidean Distance\", euclidean_distance(x,y))\n",
    "print(\"Manhattan Distance\", manhattan_distance(x,y))"
   ]
  },
  {
   "cell_type": "code",
   "execution_count": 60,
   "metadata": {},
   "outputs": [],
   "source": [
    "## weighted euclidean distance\n",
    "def wt_euclidean_distance(vector1,vector2,weight):\n",
    "    s = 0\n",
    "    for i in range(len(vector1)):\n",
    "        s += weight[i]*(vector1[i]-vector2[i])**2 \n",
    "    return s**0.5"
   ]
  },
  {
   "cell_type": "code",
   "execution_count": 61,
   "metadata": {},
   "outputs": [
    {
     "data": {
      "text/plain": [
       "0.8774964387392121"
      ]
     },
     "execution_count": 61,
     "metadata": {},
     "output_type": "execute_result"
    }
   ],
   "source": [
    "w = [0.5,3,1.5,0.001]\n",
    "wt_euclidean_distance(X[0],X[1],w)"
   ]
  },
  {
   "cell_type": "code",
   "execution_count": 62,
   "metadata": {},
   "outputs": [
    {
     "data": {
      "text/plain": [
       "0.5385164807134502"
      ]
     },
     "execution_count": 62,
     "metadata": {},
     "output_type": "execute_result"
    }
   ],
   "source": [
    "euclidean_distance(X[0],X[1])"
   ]
  },
  {
   "cell_type": "code",
   "execution_count": 63,
   "metadata": {},
   "outputs": [],
   "source": [
    "dist11 = wt_euclidean_distance(X_0[0],X_0[1],w)\n",
    "dist22 = wt_euclidean_distance(X_1[0],X_1[1],w)\n",
    "dist33 = wt_euclidean_distance(X_2[0],X_2[1],w)"
   ]
  },
  {
   "cell_type": "code",
   "execution_count": 64,
   "metadata": {},
   "outputs": [
    {
     "name": "stdout",
     "output_type": "stream",
     "text": [
      "0.8774964387392121 0.4899081546575847 1.5557506226898963\n"
     ]
    }
   ],
   "source": [
    "print(dist11,dist22,dist33)"
   ]
  },
  {
   "cell_type": "code",
   "execution_count": 65,
   "metadata": {},
   "outputs": [],
   "source": [
    "dist12 = wt_euclidean_distance(X_0[0],X_1[0],w)\n",
    "dist23 = wt_euclidean_distance(X_1[0],X_2[0],w)\n",
    "dist31 = wt_euclidean_distance(X_2[0],X_0[0],w)"
   ]
  },
  {
   "cell_type": "code",
   "execution_count": 66,
   "metadata": {},
   "outputs": [
    {
     "name": "stdout",
     "output_type": "stream",
     "text": [
      "4.29085539257617 1.676666335321372 5.708352652035437\n"
     ]
    }
   ],
   "source": [
    "print(dist12,dist23,dist31)"
   ]
  },
  {
   "cell_type": "markdown",
   "metadata": {},
   "source": [
    "## Generate random Matrix"
   ]
  },
  {
   "cell_type": "code",
   "execution_count": 67,
   "metadata": {},
   "outputs": [
    {
     "data": {
      "text/plain": [
       "array([[-0.37946582,  0.11462761, -0.04529873, -1.43217142, -0.64371184,\n",
       "         0.39274033,  0.07818319,  1.57266203, -0.50494614, -0.06710393],\n",
       "       [-0.54753216, -1.07831603, -0.11726735, -0.12872875, -1.23340099,\n",
       "         0.8027368 , -0.02412326, -2.10353208, -0.18009531,  0.58668175],\n",
       "       [-0.14472712, -0.50373859,  2.13633427, -0.79425444,  0.30545275,\n",
       "         0.5067622 , -0.86181325, -2.63029172,  1.51269219,  0.67568909],\n",
       "       [ 0.15718271,  0.42254827, -0.50429725,  0.7325375 , -0.21738735,\n",
       "        -0.05969665, -0.71750448,  0.20847456, -0.44853593,  1.2795498 ],\n",
       "       [-1.55148801,  0.79304147, -1.58889862,  0.37364231,  0.9166828 ,\n",
       "        -0.12875394,  0.79305673, -0.40746501,  1.87799597,  0.04679727],\n",
       "       [-0.03209624, -0.14841091,  1.05033044,  0.25482538,  0.14049466,\n",
       "        -1.60366673, -0.25392308,  0.78744245, -0.06004067,  0.21189213],\n",
       "       [-0.70874387,  1.58945199, -0.46221445, -0.54838739, -0.17168717,\n",
       "         1.49336824, -1.7309642 ,  0.78959457,  0.01520314, -0.14172998],\n",
       "       [ 0.55030732,  0.5516653 , -0.44426544,  0.01558526, -1.92263436,\n",
       "        -1.00713953, -0.3134547 , -0.04070944, -0.59058853, -1.98759007],\n",
       "       [-0.66459724,  0.73166572, -1.81821826,  0.11331706, -0.42110498,\n",
       "        -0.8868167 , -0.65055407, -1.02457537, -0.35784598,  0.16918684],\n",
       "       [-0.38759229, -0.46941201, -0.78062852,  1.78962448, -0.12139401,\n",
       "        -1.01409732, -1.00650103,  0.00311287, -0.9069851 ,  1.49463811]])"
      ]
     },
     "execution_count": 67,
     "metadata": {},
     "output_type": "execute_result"
    }
   ],
   "source": [
    "A = np.random.randn(10,10)\n",
    "A"
   ]
  },
  {
   "cell_type": "code",
   "execution_count": 68,
   "metadata": {},
   "outputs": [
    {
     "data": {
      "text/plain": [
       "array([[-0.37946582,  0.11462761, -0.04529873],\n",
       "       [-0.54753216, -1.07831603, -0.11726735],\n",
       "       [-0.14472712, -0.50373859,  2.13633427]])"
      ]
     },
     "execution_count": 68,
     "metadata": {},
     "output_type": "execute_result"
    }
   ],
   "source": [
    "A[0:3,0:3]"
   ]
  },
  {
   "cell_type": "code",
   "execution_count": 69,
   "metadata": {},
   "outputs": [
    {
     "data": {
      "text/plain": [
       "array([[ 1.41995897, -1.52608031, -0.39076148, -1.39208772,  0.46361858,\n",
       "         0.11941973,  0.0828262 , -0.01436745,  0.30824667,  0.38395041,\n",
       "         0.62774229, -1.26727265,  0.33371641,  0.76449832,  1.37485688,\n",
       "         0.67879753, -1.01478417,  0.78542669,  0.03992618, -0.86926122,\n",
       "        -1.199883  , -0.77313629, -0.81072311, -0.74463796, -1.51678618,\n",
       "        -0.61487557,  0.42621622, -0.92972941,  0.98080888, -1.37533178,\n",
       "         1.36215557, -3.44585263, -1.08196635, -1.43119072, -1.49911749,\n",
       "        -2.65173044,  0.4565258 ,  0.58890541,  2.0762575 ,  2.01269809,\n",
       "        -0.21834554,  0.43666984,  0.55594034, -0.46511323,  0.07788748,\n",
       "        -0.28606177,  1.32359314,  1.14471814, -0.20349983,  1.44227377,\n",
       "         0.381076  , -0.59606156,  0.70293488,  0.40594344,  0.98671386,\n",
       "        -1.46379031, -1.02349987,  1.87561213,  0.00415353,  1.82149735,\n",
       "         0.3350613 , -0.14565079, -0.97276693,  2.12848006,  0.10803666,\n",
       "        -1.23812011, -1.23471608, -1.47348066, -0.13582902,  0.50056499,\n",
       "        -0.07144413,  0.46786111, -1.58441104, -0.70675427, -1.48543134,\n",
       "         1.05816217, -2.5572064 ,  1.84256845, -1.25475438,  0.74072696,\n",
       "         0.06973378, -0.83459203,  0.32618545, -0.63156492,  2.14466106,\n",
       "        -0.35383638,  0.36902794,  1.15337214, -0.14509737,  0.69988639,\n",
       "        -1.94635368,  0.15863432,  0.75017188,  1.02877433,  2.23985824,\n",
       "         0.75277741, -0.68644196,  0.07330906, -1.59171391,  0.73623193]])"
      ]
     },
     "execution_count": 69,
     "metadata": {},
     "output_type": "execute_result"
    }
   ],
   "source": [
    "v = np.random.randn(1,100)\n",
    "v"
   ]
  },
  {
   "cell_type": "code",
   "execution_count": 70,
   "metadata": {},
   "outputs": [
    {
     "data": {
      "text/plain": [
       "array([[ 1.41995897, -1.52608031, -0.39076148, -1.39208772,  0.46361858,\n",
       "         0.11941973,  0.0828262 , -0.01436745,  0.30824667,  0.38395041,\n",
       "         0.62774229, -1.26727265,  0.33371641,  0.76449832,  1.37485688,\n",
       "         0.67879753, -1.01478417,  0.78542669,  0.03992618, -0.86926122],\n",
       "       [-1.199883  , -0.77313629, -0.81072311, -0.74463796, -1.51678618,\n",
       "        -0.61487557,  0.42621622, -0.92972941,  0.98080888, -1.37533178,\n",
       "         1.36215557, -3.44585263, -1.08196635, -1.43119072, -1.49911749,\n",
       "        -2.65173044,  0.4565258 ,  0.58890541,  2.0762575 ,  2.01269809],\n",
       "       [-0.21834554,  0.43666984,  0.55594034, -0.46511323,  0.07788748,\n",
       "        -0.28606177,  1.32359314,  1.14471814, -0.20349983,  1.44227377,\n",
       "         0.381076  , -0.59606156,  0.70293488,  0.40594344,  0.98671386,\n",
       "        -1.46379031, -1.02349987,  1.87561213,  0.00415353,  1.82149735],\n",
       "       [ 0.3350613 , -0.14565079, -0.97276693,  2.12848006,  0.10803666,\n",
       "        -1.23812011, -1.23471608, -1.47348066, -0.13582902,  0.50056499,\n",
       "        -0.07144413,  0.46786111, -1.58441104, -0.70675427, -1.48543134,\n",
       "         1.05816217, -2.5572064 ,  1.84256845, -1.25475438,  0.74072696],\n",
       "       [ 0.06973378, -0.83459203,  0.32618545, -0.63156492,  2.14466106,\n",
       "        -0.35383638,  0.36902794,  1.15337214, -0.14509737,  0.69988639,\n",
       "        -1.94635368,  0.15863432,  0.75017188,  1.02877433,  2.23985824,\n",
       "         0.75277741, -0.68644196,  0.07330906, -1.59171391,  0.73623193]])"
      ]
     },
     "execution_count": 70,
     "metadata": {},
     "output_type": "execute_result"
    }
   ],
   "source": [
    "R = np.resize(v,(5,20))\n",
    "R"
   ]
  },
  {
   "cell_type": "markdown",
   "metadata": {},
   "source": [
    "## Matrix Transpose"
   ]
  },
  {
   "cell_type": "code",
   "execution_count": 71,
   "metadata": {},
   "outputs": [
    {
     "data": {
      "text/plain": [
       "array([[ 2,  3,  5],\n",
       "       [ 1, -4,  1],\n",
       "       [ 0,  0,  3]])"
      ]
     },
     "execution_count": 71,
     "metadata": {},
     "output_type": "execute_result"
    }
   ],
   "source": [
    "A = np.array([[2,3,5],[1,-4,1],[0,0,3]])\n",
    "A"
   ]
  },
  {
   "cell_type": "code",
   "execution_count": 72,
   "metadata": {},
   "outputs": [
    {
     "data": {
      "text/plain": [
       "array([[ 2,  1,  0],\n",
       "       [ 3, -4,  0],\n",
       "       [ 5,  1,  3]])"
      ]
     },
     "execution_count": 72,
     "metadata": {},
     "output_type": "execute_result"
    }
   ],
   "source": [
    "A.T"
   ]
  },
  {
   "cell_type": "code",
   "execution_count": 73,
   "metadata": {},
   "outputs": [
    {
     "data": {
      "text/plain": [
       "array([[ 2,  1,  0],\n",
       "       [ 3, -4,  0],\n",
       "       [ 5,  1,  3]])"
      ]
     },
     "execution_count": 73,
     "metadata": {},
     "output_type": "execute_result"
    }
   ],
   "source": [
    "np.transpose(A)"
   ]
  },
  {
   "cell_type": "markdown",
   "metadata": {},
   "source": [
    "## Generate symmetric matrix"
   ]
  },
  {
   "cell_type": "code",
   "execution_count": 74,
   "metadata": {},
   "outputs": [
    {
     "data": {
      "text/plain": [
       "array([[ 0.60827152,  0.36809994, -0.41201399,  0.37607822, -0.3079192 ],\n",
       "       [-0.33435101, -0.93276496, -0.3789668 , -0.41221241,  1.05108717],\n",
       "       [ 0.85264969,  1.12334701, -0.36349556, -0.47717446,  0.47965744],\n",
       "       [-0.29068554,  0.03471692, -1.83984611, -1.37796977, -1.42048169],\n",
       "       [-0.01398087, -2.77163005, -1.2872641 , -1.12291169, -0.30651006]])"
      ]
     },
     "execution_count": 74,
     "metadata": {},
     "output_type": "execute_result"
    }
   ],
   "source": [
    "A = np.random.randn(5,5)\n",
    "A"
   ]
  },
  {
   "cell_type": "code",
   "execution_count": 75,
   "metadata": {},
   "outputs": [
    {
     "data": {
      "text/plain": [
       "array([[ 1.21654304,  0.03374892,  0.44063571,  0.08539268, -0.32190007],\n",
       "       [ 0.03374892, -1.86552991,  0.74438022, -0.3774955 , -1.72054287],\n",
       "       [ 0.44063571,  0.74438022, -0.72699112, -2.31702057, -0.80760666],\n",
       "       [ 0.08539268, -0.3774955 , -2.31702057, -2.75593954, -2.54339338],\n",
       "       [-0.32190007, -1.72054287, -0.80760666, -2.54339338, -0.61302012]])"
      ]
     },
     "execution_count": 75,
     "metadata": {},
     "output_type": "execute_result"
    }
   ],
   "source": [
    "B = A + A.T\n",
    "B"
   ]
  },
  {
   "cell_type": "code",
   "execution_count": 76,
   "metadata": {},
   "outputs": [
    {
     "data": {
      "text/plain": [
       "array([[ 1.21654304,  0.03374892,  0.44063571,  0.08539268, -0.32190007],\n",
       "       [ 0.03374892, -1.86552991,  0.74438022, -0.3774955 , -1.72054287],\n",
       "       [ 0.44063571,  0.74438022, -0.72699112, -2.31702057, -0.80760666],\n",
       "       [ 0.08539268, -0.3774955 , -2.31702057, -2.75593954, -2.54339338],\n",
       "       [-0.32190007, -1.72054287, -0.80760666, -2.54339338, -0.61302012]])"
      ]
     },
     "execution_count": 76,
     "metadata": {},
     "output_type": "execute_result"
    }
   ],
   "source": [
    "B.T"
   ]
  },
  {
   "cell_type": "markdown",
   "metadata": {},
   "source": [
    "## Matrix Operations\n",
    "### Scalar Multiplication"
   ]
  },
  {
   "cell_type": "code",
   "execution_count": 77,
   "metadata": {},
   "outputs": [
    {
     "data": {
      "text/plain": [
       "array([[ 2,  3,  5],\n",
       "       [ 1, -4,  1],\n",
       "       [ 0,  0,  3]])"
      ]
     },
     "execution_count": 77,
     "metadata": {},
     "output_type": "execute_result"
    }
   ],
   "source": [
    "A = np.array([[2,3,5],[1,-4,1],[0,0,3]])\n",
    "A"
   ]
  },
  {
   "cell_type": "code",
   "execution_count": 78,
   "metadata": {},
   "outputs": [
    {
     "data": {
      "text/plain": [
       "array([[ 3. ,  4.5,  7.5],\n",
       "       [ 1.5, -6. ,  1.5],\n",
       "       [ 0. ,  0. ,  4.5]])"
      ]
     },
     "execution_count": 78,
     "metadata": {},
     "output_type": "execute_result"
    }
   ],
   "source": [
    "1.5*A"
   ]
  },
  {
   "cell_type": "code",
   "execution_count": 79,
   "metadata": {},
   "outputs": [
    {
     "data": {
      "text/plain": [
       "array([[ 3. ,  4.5,  7.5],\n",
       "       [ 1.5, -6. ,  1.5],\n",
       "       [ 0. ,  0. ,  4.5]])"
      ]
     },
     "execution_count": 79,
     "metadata": {},
     "output_type": "execute_result"
    }
   ],
   "source": [
    "A*1.5"
   ]
  },
  {
   "cell_type": "markdown",
   "metadata": {},
   "source": [
    "### Matix Addition"
   ]
  },
  {
   "cell_type": "code",
   "execution_count": 80,
   "metadata": {},
   "outputs": [
    {
     "data": {
      "text/plain": [
       "array([[ 3,  2,  9],\n",
       "       [-3,  1, 13]])"
      ]
     },
     "execution_count": 80,
     "metadata": {},
     "output_type": "execute_result"
    }
   ],
   "source": [
    "A = np.array([[1,5,2],[-2,3,7]])\n",
    "B = np.array([[2,-3,7],[-1,-2,6]])\n",
    "A+B"
   ]
  },
  {
   "cell_type": "code",
   "execution_count": 81,
   "metadata": {},
   "outputs": [
    {
     "data": {
      "text/plain": [
       "array([[ -4,  19, -17],\n",
       "       [ -1,  12,  -4]])"
      ]
     },
     "execution_count": 81,
     "metadata": {},
     "output_type": "execute_result"
    }
   ],
   "source": [
    "2*A - 3*B"
   ]
  },
  {
   "cell_type": "code",
   "execution_count": 82,
   "metadata": {},
   "outputs": [
    {
     "data": {
      "text/plain": [
       "array([[-0.97059487, -0.57023383,  2.07228427, -1.84568342, -1.70752324],\n",
       "       [ 2.42330314,  3.45135247, -2.99020237, -1.67939405,  1.15709417],\n",
       "       [-0.06137788, -0.64288864, -1.3118503 , -3.24328474,  2.90808284]])"
      ]
     },
     "execution_count": 82,
     "metadata": {},
     "output_type": "execute_result"
    }
   ],
   "source": [
    "A = np.random.randn(3,5)\n",
    "B = np.random.randn(3,5)\n",
    "2*(A+B) "
   ]
  },
  {
   "cell_type": "code",
   "execution_count": 83,
   "metadata": {},
   "outputs": [
    {
     "data": {
      "text/plain": [
       "array([[-0.97059487, -0.57023383,  2.07228427, -1.84568342, -1.70752324],\n",
       "       [ 2.42330314,  3.45135247, -2.99020237, -1.67939405,  1.15709417],\n",
       "       [-0.06137788, -0.64288864, -1.3118503 , -3.24328474,  2.90808284]])"
      ]
     },
     "execution_count": 83,
     "metadata": {},
     "output_type": "execute_result"
    }
   ],
   "source": [
    "2*A + 2*B "
   ]
  },
  {
   "cell_type": "code",
   "execution_count": 84,
   "metadata": {},
   "outputs": [
    {
     "name": "stdout",
     "output_type": "stream",
     "text": [
      "shape of A: (2, 3)\n",
      "shape of x (3, 1)\n"
     ]
    }
   ],
   "source": [
    "A = np.array([[1,3,-2],[3,1,4]])\n",
    "x = np.array([[2],[5],[1]])\n",
    "print(\"shape of A:\",A.shape)\n",
    "print(\"shape of x\",x.shape)"
   ]
  },
  {
   "cell_type": "code",
   "execution_count": 85,
   "metadata": {},
   "outputs": [],
   "source": [
    "x = 2*x"
   ]
  },
  {
   "cell_type": "code",
   "execution_count": 86,
   "metadata": {},
   "outputs": [
    {
     "data": {
      "text/plain": [
       "array([[60],\n",
       "       [60]])"
      ]
     },
     "execution_count": 86,
     "metadata": {},
     "output_type": "execute_result"
    }
   ],
   "source": [
    "2*np.matmul(A,x)"
   ]
  },
  {
   "cell_type": "markdown",
   "metadata": {},
   "source": [
    "### Matrix Multiplication"
   ]
  },
  {
   "cell_type": "code",
   "execution_count": 87,
   "metadata": {},
   "outputs": [
    {
     "data": {
      "text/plain": [
       "array([[ -1,  -6],\n",
       "       [-14,  42]])"
      ]
     },
     "execution_count": 87,
     "metadata": {},
     "output_type": "execute_result"
    }
   ],
   "source": [
    "A = np.array([[1,2,-3],[7,-1,2]])\n",
    "B = np.array([[-2,5],[2,-1],[1,3]])\n",
    "np.matmul(A,B)"
   ]
  },
  {
   "cell_type": "code",
   "execution_count": 88,
   "metadata": {},
   "outputs": [
    {
     "data": {
      "text/plain": [
       "(2, 3)"
      ]
     },
     "execution_count": 88,
     "metadata": {},
     "output_type": "execute_result"
    }
   ],
   "source": [
    "A.shape"
   ]
  },
  {
   "cell_type": "code",
   "execution_count": 89,
   "metadata": {},
   "outputs": [
    {
     "data": {
      "text/plain": [
       "(3, 2)"
      ]
     },
     "execution_count": 89,
     "metadata": {},
     "output_type": "execute_result"
    }
   ],
   "source": [
    "B.shape"
   ]
  },
  {
   "cell_type": "code",
   "execution_count": 90,
   "metadata": {},
   "outputs": [
    {
     "data": {
      "text/plain": [
       "array([[33, -9, 16],\n",
       "       [-5,  5, -8],\n",
       "       [22, -1,  3]])"
      ]
     },
     "execution_count": 90,
     "metadata": {},
     "output_type": "execute_result"
    }
   ],
   "source": [
    "np.matmul(B,A)"
   ]
  },
  {
   "cell_type": "code",
   "execution_count": 91,
   "metadata": {},
   "outputs": [
    {
     "data": {
      "text/plain": [
       "array([[ 2.26124776, -0.56008752, -1.90638039],\n",
       "       [ 1.07610168,  3.69294868,  3.52595939],\n",
       "       [ 0.48518858,  2.32124843,  2.61608565]])"
      ]
     },
     "execution_count": 91,
     "metadata": {},
     "output_type": "execute_result"
    }
   ],
   "source": [
    "A = np.random.randn(3,3)\n",
    "B = A + A.T\n",
    "np.matmul(A,B)"
   ]
  },
  {
   "cell_type": "code",
   "execution_count": 92,
   "metadata": {},
   "outputs": [
    {
     "data": {
      "text/plain": [
       "array([[ 2.49804635, -0.07862172, -0.55782453],\n",
       "       [ 1.55756747,  0.40600843,  1.90890192],\n",
       "       [ 1.83374444,  0.70419096,  5.66622731]])"
      ]
     },
     "execution_count": 92,
     "metadata": {},
     "output_type": "execute_result"
    }
   ],
   "source": [
    "np.matmul(B,A)"
   ]
  },
  {
   "cell_type": "code",
   "execution_count": 93,
   "metadata": {},
   "outputs": [],
   "source": [
    "A = np.random.randn(3,3)\n",
    "B = np.random.randn(3,3)\n",
    "C = np.random.randn(3,3)"
   ]
  },
  {
   "cell_type": "code",
   "execution_count": 94,
   "metadata": {},
   "outputs": [
    {
     "data": {
      "text/plain": [
       "array([[ 5.59627883,  0.57965975,  3.60113388],\n",
       "       [-3.7125124 , -4.21479379,  1.105365  ],\n",
       "       [ 1.22986412,  1.16510727,  0.4290862 ]])"
      ]
     },
     "execution_count": 94,
     "metadata": {},
     "output_type": "execute_result"
    }
   ],
   "source": [
    "np.matmul(A,np.matmul(B,C))"
   ]
  },
  {
   "cell_type": "code",
   "execution_count": 95,
   "metadata": {},
   "outputs": [
    {
     "data": {
      "text/plain": [
       "array([[ 5.59627883,  0.57965975,  3.60113388],\n",
       "       [-3.7125124 , -4.21479379,  1.105365  ],\n",
       "       [ 1.22986412,  1.16510727,  0.4290862 ]])"
      ]
     },
     "execution_count": 95,
     "metadata": {},
     "output_type": "execute_result"
    }
   ],
   "source": [
    "np.matmul(np.matmul(A,B),C)"
   ]
  },
  {
   "cell_type": "code",
   "execution_count": 96,
   "metadata": {},
   "outputs": [
    {
     "data": {
      "text/plain": [
       "array([[-7.6653664 , -6.19851867, -0.06905033],\n",
       "       [ 2.88434266, -4.04079795, -0.86627212],\n",
       "       [-0.92869432, -0.49225516,  2.21250016]])"
      ]
     },
     "execution_count": 96,
     "metadata": {},
     "output_type": "execute_result"
    }
   ],
   "source": [
    "np.matmul(A,(B + C))"
   ]
  },
  {
   "cell_type": "code",
   "execution_count": 97,
   "metadata": {},
   "outputs": [
    {
     "data": {
      "text/plain": [
       "array([[-7.6653664 , -6.19851867, -0.06905033],\n",
       "       [ 2.88434266, -4.04079795, -0.86627212],\n",
       "       [-0.92869432, -0.49225516,  2.21250016]])"
      ]
     },
     "execution_count": 97,
     "metadata": {},
     "output_type": "execute_result"
    }
   ],
   "source": [
    "np.matmul(A,B) + np.matmul(A,C)"
   ]
  },
  {
   "cell_type": "code",
   "execution_count": 98,
   "metadata": {},
   "outputs": [
    {
     "data": {
      "text/plain": [
       "array([[-1.58512011, -2.74418192,  0.0634512 ],\n",
       "       [ 1.31086033, -1.81317321, -0.34328289],\n",
       "       [ 1.28285109,  1.9853244 ,  0.72096316]])"
      ]
     },
     "execution_count": 98,
     "metadata": {},
     "output_type": "execute_result"
    }
   ],
   "source": [
    "np.matmul((A+ B),C)"
   ]
  },
  {
   "cell_type": "code",
   "execution_count": 99,
   "metadata": {},
   "outputs": [
    {
     "data": {
      "text/plain": [
       "array([[-1.58512011, -2.74418192,  0.0634512 ],\n",
       "       [ 1.31086033, -1.81317321, -0.34328289],\n",
       "       [ 1.28285109,  1.9853244 ,  0.72096316]])"
      ]
     },
     "execution_count": 99,
     "metadata": {},
     "output_type": "execute_result"
    }
   ],
   "source": [
    "np.matmul(A, C) + np.matmul(B, C)"
   ]
  },
  {
   "cell_type": "code",
   "execution_count": 100,
   "metadata": {},
   "outputs": [
    {
     "data": {
      "text/plain": [
       "array([[-2.87157369,  2.29915605, -0.64049487],\n",
       "       [-1.61835554, -1.61869958, -0.01750874],\n",
       "       [ 0.50647877, -1.00307793,  0.50907373]])"
      ]
     },
     "execution_count": 100,
     "metadata": {},
     "output_type": "execute_result"
    }
   ],
   "source": [
    "np.matmul(A,B).T"
   ]
  },
  {
   "cell_type": "code",
   "execution_count": 101,
   "metadata": {},
   "outputs": [
    {
     "data": {
      "text/plain": [
       "array([[-4.68834382, -1.57343387, -2.99445915],\n",
       "       [ 0.52271198,  0.2401482 , -0.28163721],\n",
       "       [ 2.9121361 ,  0.17924933,  0.46699609]])"
      ]
     },
     "execution_count": 101,
     "metadata": {},
     "output_type": "execute_result"
    }
   ],
   "source": [
    "np.matmul(A.T,B.T)"
   ]
  },
  {
   "cell_type": "code",
   "execution_count": 102,
   "metadata": {},
   "outputs": [
    {
     "data": {
      "text/plain": [
       "array([[-2.87157369,  2.29915605, -0.64049487],\n",
       "       [-1.61835554, -1.61869958, -0.01750874],\n",
       "       [ 0.50647877, -1.00307793,  0.50907373]])"
      ]
     },
     "execution_count": 102,
     "metadata": {},
     "output_type": "execute_result"
    }
   ],
   "source": [
    "np.matmul(B.T,A.T)"
   ]
  },
  {
   "cell_type": "code",
   "execution_count": 103,
   "metadata": {},
   "outputs": [
    {
     "data": {
      "text/plain": [
       "array([[-2.87157369,  2.29915605, -0.64049487],\n",
       "       [-1.61835554, -1.61869958, -0.01750874],\n",
       "       [ 0.50647877, -1.00307793,  0.50907373]])"
      ]
     },
     "execution_count": 103,
     "metadata": {},
     "output_type": "execute_result"
    }
   ],
   "source": [
    "np.matmul(A,B,C).T"
   ]
  },
  {
   "cell_type": "code",
   "execution_count": 104,
   "metadata": {},
   "outputs": [
    {
     "data": {
      "text/plain": [
       "array([[ 5.23694221,  2.54335927,  5.08354537],\n",
       "       [ 2.65284271,  0.04952321, -0.11799862],\n",
       "       [-0.81156113, -0.73631343, -1.31922067]])"
      ]
     },
     "execution_count": 104,
     "metadata": {},
     "output_type": "execute_result"
    }
   ],
   "source": [
    "np.matmul(C.T,B.T,A.T)"
   ]
  },
  {
   "cell_type": "markdown",
   "metadata": {},
   "source": [
    "## Determinant of a Matrix"
   ]
  },
  {
   "cell_type": "code",
   "execution_count": 105,
   "metadata": {},
   "outputs": [
    {
     "data": {
      "text/plain": [
       "55.000000000000014"
      ]
     },
     "execution_count": 105,
     "metadata": {},
     "output_type": "execute_result"
    }
   ],
   "source": [
    "A = np.array([[1,-2,5],[7,-3,2],[-1,2,0]])\n",
    "np.linalg.det(A)"
   ]
  },
  {
   "cell_type": "code",
   "execution_count": 106,
   "metadata": {},
   "outputs": [
    {
     "data": {
      "text/plain": [
       "0.0"
      ]
     },
     "execution_count": 106,
     "metadata": {},
     "output_type": "execute_result"
    }
   ],
   "source": [
    "A = np.array([[5,2,7],[-5,-2,-7],[10,4,14]])\n",
    "np.linalg.det(A)"
   ]
  },
  {
   "cell_type": "markdown",
   "metadata": {},
   "source": [
    "## Matrix Inverse"
   ]
  },
  {
   "cell_type": "code",
   "execution_count": 107,
   "metadata": {},
   "outputs": [
    {
     "data": {
      "text/plain": [
       "array([[-0.07272727,  0.18181818,  0.2       ],\n",
       "       [-0.03636364,  0.09090909,  0.6       ],\n",
       "       [ 0.2       ,  0.        ,  0.2       ]])"
      ]
     },
     "execution_count": 107,
     "metadata": {},
     "output_type": "execute_result"
    }
   ],
   "source": [
    "A = np.array([[1,-2,5],[7,-3,2],[-1,2,0]])\n",
    "np.linalg.inv(A)"
   ]
  },
  {
   "cell_type": "code",
   "execution_count": 108,
   "metadata": {},
   "outputs": [
    {
     "ename": "LinAlgError",
     "evalue": "Singular matrix",
     "output_type": "error",
     "traceback": [
      "\u001b[0;31m---------------------------------------------------------------------------\u001b[0m",
      "\u001b[0;31mLinAlgError\u001b[0m                               Traceback (most recent call last)",
      "\u001b[0;32m<ipython-input-108-92059b4cada5>\u001b[0m in \u001b[0;36m<module>\u001b[0;34m\u001b[0m\n\u001b[1;32m      1\u001b[0m \u001b[0mA\u001b[0m \u001b[0;34m=\u001b[0m \u001b[0mnp\u001b[0m\u001b[0;34m.\u001b[0m\u001b[0marray\u001b[0m\u001b[0;34m(\u001b[0m\u001b[0;34m[\u001b[0m\u001b[0;34m[\u001b[0m\u001b[0;36m5\u001b[0m\u001b[0;34m,\u001b[0m\u001b[0;36m2\u001b[0m\u001b[0;34m,\u001b[0m\u001b[0;36m7\u001b[0m\u001b[0;34m]\u001b[0m\u001b[0;34m,\u001b[0m\u001b[0;34m[\u001b[0m\u001b[0;34m-\u001b[0m\u001b[0;36m5\u001b[0m\u001b[0;34m,\u001b[0m\u001b[0;34m-\u001b[0m\u001b[0;36m2\u001b[0m\u001b[0;34m,\u001b[0m\u001b[0;34m-\u001b[0m\u001b[0;36m7\u001b[0m\u001b[0;34m]\u001b[0m\u001b[0;34m,\u001b[0m\u001b[0;34m[\u001b[0m\u001b[0;36m10\u001b[0m\u001b[0;34m,\u001b[0m\u001b[0;36m4\u001b[0m\u001b[0;34m,\u001b[0m\u001b[0;36m14\u001b[0m\u001b[0;34m]\u001b[0m\u001b[0;34m]\u001b[0m\u001b[0;34m)\u001b[0m\u001b[0;34m\u001b[0m\u001b[0;34m\u001b[0m\u001b[0m\n\u001b[0;32m----> 2\u001b[0;31m \u001b[0mnp\u001b[0m\u001b[0;34m.\u001b[0m\u001b[0mlinalg\u001b[0m\u001b[0;34m.\u001b[0m\u001b[0minv\u001b[0m\u001b[0;34m(\u001b[0m\u001b[0mA\u001b[0m\u001b[0;34m)\u001b[0m\u001b[0;34m\u001b[0m\u001b[0;34m\u001b[0m\u001b[0m\n\u001b[0m",
      "\u001b[0;32m<__array_function__ internals>\u001b[0m in \u001b[0;36minv\u001b[0;34m(*args, **kwargs)\u001b[0m\n",
      "\u001b[0;32m~/anaconda3/lib/python3.8/site-packages/numpy/linalg/linalg.py\u001b[0m in \u001b[0;36minv\u001b[0;34m(a)\u001b[0m\n\u001b[1;32m    544\u001b[0m     \u001b[0msignature\u001b[0m \u001b[0;34m=\u001b[0m \u001b[0;34m'D->D'\u001b[0m \u001b[0;32mif\u001b[0m \u001b[0misComplexType\u001b[0m\u001b[0;34m(\u001b[0m\u001b[0mt\u001b[0m\u001b[0;34m)\u001b[0m \u001b[0;32melse\u001b[0m \u001b[0;34m'd->d'\u001b[0m\u001b[0;34m\u001b[0m\u001b[0;34m\u001b[0m\u001b[0m\n\u001b[1;32m    545\u001b[0m     \u001b[0mextobj\u001b[0m \u001b[0;34m=\u001b[0m \u001b[0mget_linalg_error_extobj\u001b[0m\u001b[0;34m(\u001b[0m\u001b[0m_raise_linalgerror_singular\u001b[0m\u001b[0;34m)\u001b[0m\u001b[0;34m\u001b[0m\u001b[0;34m\u001b[0m\u001b[0m\n\u001b[0;32m--> 546\u001b[0;31m     \u001b[0mainv\u001b[0m \u001b[0;34m=\u001b[0m \u001b[0m_umath_linalg\u001b[0m\u001b[0;34m.\u001b[0m\u001b[0minv\u001b[0m\u001b[0;34m(\u001b[0m\u001b[0ma\u001b[0m\u001b[0;34m,\u001b[0m \u001b[0msignature\u001b[0m\u001b[0;34m=\u001b[0m\u001b[0msignature\u001b[0m\u001b[0;34m,\u001b[0m \u001b[0mextobj\u001b[0m\u001b[0;34m=\u001b[0m\u001b[0mextobj\u001b[0m\u001b[0;34m)\u001b[0m\u001b[0;34m\u001b[0m\u001b[0;34m\u001b[0m\u001b[0m\n\u001b[0m\u001b[1;32m    547\u001b[0m     \u001b[0;32mreturn\u001b[0m \u001b[0mwrap\u001b[0m\u001b[0;34m(\u001b[0m\u001b[0mainv\u001b[0m\u001b[0;34m.\u001b[0m\u001b[0mastype\u001b[0m\u001b[0;34m(\u001b[0m\u001b[0mresult_t\u001b[0m\u001b[0;34m,\u001b[0m \u001b[0mcopy\u001b[0m\u001b[0;34m=\u001b[0m\u001b[0;32mFalse\u001b[0m\u001b[0;34m)\u001b[0m\u001b[0;34m)\u001b[0m\u001b[0;34m\u001b[0m\u001b[0;34m\u001b[0m\u001b[0m\n\u001b[1;32m    548\u001b[0m \u001b[0;34m\u001b[0m\u001b[0m\n",
      "\u001b[0;32m~/anaconda3/lib/python3.8/site-packages/numpy/linalg/linalg.py\u001b[0m in \u001b[0;36m_raise_linalgerror_singular\u001b[0;34m(err, flag)\u001b[0m\n\u001b[1;32m     86\u001b[0m \u001b[0;34m\u001b[0m\u001b[0m\n\u001b[1;32m     87\u001b[0m \u001b[0;32mdef\u001b[0m \u001b[0m_raise_linalgerror_singular\u001b[0m\u001b[0;34m(\u001b[0m\u001b[0merr\u001b[0m\u001b[0;34m,\u001b[0m \u001b[0mflag\u001b[0m\u001b[0;34m)\u001b[0m\u001b[0;34m:\u001b[0m\u001b[0;34m\u001b[0m\u001b[0;34m\u001b[0m\u001b[0m\n\u001b[0;32m---> 88\u001b[0;31m     \u001b[0;32mraise\u001b[0m \u001b[0mLinAlgError\u001b[0m\u001b[0;34m(\u001b[0m\u001b[0;34m\"Singular matrix\"\u001b[0m\u001b[0;34m)\u001b[0m\u001b[0;34m\u001b[0m\u001b[0;34m\u001b[0m\u001b[0m\n\u001b[0m\u001b[1;32m     89\u001b[0m \u001b[0;34m\u001b[0m\u001b[0m\n\u001b[1;32m     90\u001b[0m \u001b[0;32mdef\u001b[0m \u001b[0m_raise_linalgerror_nonposdef\u001b[0m\u001b[0;34m(\u001b[0m\u001b[0merr\u001b[0m\u001b[0;34m,\u001b[0m \u001b[0mflag\u001b[0m\u001b[0;34m)\u001b[0m\u001b[0;34m:\u001b[0m\u001b[0;34m\u001b[0m\u001b[0;34m\u001b[0m\u001b[0m\n",
      "\u001b[0;31mLinAlgError\u001b[0m: Singular matrix"
     ]
    }
   ],
   "source": [
    "A = np.array([[5,2,7],[-5,-2,-7],[10,4,14]])\n",
    "np.linalg.inv(A)"
   ]
  },
  {
   "cell_type": "markdown",
   "metadata": {},
   "source": [
    "#### Perturbation"
   ]
  },
  {
   "cell_type": "code",
   "execution_count": 109,
   "metadata": {},
   "outputs": [],
   "source": [
    "delta = 0.02\n",
    "A = A + delta"
   ]
  },
  {
   "cell_type": "code",
   "execution_count": 110,
   "metadata": {},
   "outputs": [
    {
     "data": {
      "text/plain": [
       "array([[ 5.02,  2.02,  7.02],\n",
       "       [-4.98, -1.98, -6.98],\n",
       "       [10.02,  4.02, 14.02]])"
      ]
     },
     "execution_count": 110,
     "metadata": {},
     "output_type": "execute_result"
    }
   ],
   "source": [
    "A"
   ]
  },
  {
   "cell_type": "code",
   "execution_count": 111,
   "metadata": {},
   "outputs": [
    {
     "data": {
      "text/plain": [
       "-2.5816206707315467e-16"
      ]
     },
     "execution_count": 111,
     "metadata": {},
     "output_type": "execute_result"
    }
   ],
   "source": [
    "np.linalg.det(A)"
   ]
  },
  {
   "cell_type": "code",
   "execution_count": 112,
   "metadata": {},
   "outputs": [
    {
     "data": {
      "text/plain": [
       "array([[-1.16206073e+15,  3.87353577e+14,  7.74707153e+14],\n",
       "       [ 4.64824292e+14, -1.54941431e+14, -3.09882861e+14],\n",
       "       [ 6.97236438e+14, -2.32412146e+14, -4.64824292e+14]])"
      ]
     },
     "execution_count": 112,
     "metadata": {},
     "output_type": "execute_result"
    }
   ],
   "source": [
    "np.linalg.inv(A)"
   ]
  },
  {
   "cell_type": "markdown",
   "metadata": {},
   "source": [
    "## Linear Equation Solving "
   ]
  },
  {
   "cell_type": "code",
   "execution_count": 113,
   "metadata": {},
   "outputs": [],
   "source": [
    "## x - 2y + 5z = 2\n",
    "## 7x -3y + 2z = 5\n",
    "## 2y -x = 3\n",
    "\n",
    "A = np.array([[1,-2,5],[7,-3,2],[-1,2,0]])\n",
    "b = np.array([[2],[5],[3]])"
   ]
  },
  {
   "cell_type": "code",
   "execution_count": 114,
   "metadata": {},
   "outputs": [
    {
     "data": {
      "text/plain": [
       "array([[1.36363636],\n",
       "       [2.18181818],\n",
       "       [1.        ]])"
      ]
     },
     "execution_count": 114,
     "metadata": {},
     "output_type": "execute_result"
    }
   ],
   "source": [
    "x = np.matmul(np.linalg.inv(A),b)\n",
    "x"
   ]
  },
  {
   "cell_type": "code",
   "execution_count": 115,
   "metadata": {},
   "outputs": [],
   "source": [
    "## 5x+3y +4z = 11\n",
    "## 2x+y+z = 3 \n",
    "## 4x+7y +5z=17\n",
    "\n",
    "A = np.array([[5,3,4],[2,1,1],[4,7,5]])\n",
    "b = np.array([[11],[3],[17]])"
   ]
  },
  {
   "cell_type": "code",
   "execution_count": 116,
   "metadata": {},
   "outputs": [
    {
     "data": {
      "text/plain": [
       "array([[6.66133815e-16],\n",
       "       [1.00000000e+00],\n",
       "       [2.00000000e+00]])"
      ]
     },
     "execution_count": 116,
     "metadata": {},
     "output_type": "execute_result"
    }
   ],
   "source": [
    "x = np.matmul(np.linalg.inv(A),b)\n",
    "x"
   ]
  },
  {
   "cell_type": "code",
   "execution_count": 117,
   "metadata": {},
   "outputs": [],
   "source": [
    "##a + 3b + 2c + 2d = 1\n",
    "##2a + b + c + 2d = 0\n",
    "##3a + b + 2c + d = 1\n",
    "##2a + c + 3d = 0\n",
    "\n",
    "A = np.array([[1,3,2,2],[2,1,1,2],[3,1,2,1],[2,0,1,3]])\n",
    "b = np.array([[1],[0],[1],[0]])"
   ]
  },
  {
   "cell_type": "code",
   "execution_count": 118,
   "metadata": {},
   "outputs": [
    {
     "data": {
      "text/plain": [
       "array([[-0.27272727],\n",
       "       [-0.18181818],\n",
       "       [ 1.09090909],\n",
       "       [-0.18181818]])"
      ]
     },
     "execution_count": 118,
     "metadata": {},
     "output_type": "execute_result"
    }
   ],
   "source": [
    "x = np.matmul(np.linalg.inv(A),b)\n",
    "x"
   ]
  },
  {
   "cell_type": "markdown",
   "metadata": {},
   "source": [
    "## Trace of a sqaure Matrix"
   ]
  },
  {
   "cell_type": "code",
   "execution_count": 199,
   "metadata": {},
   "outputs": [],
   "source": [
    "def my_trace(M):\n",
    "    s = 0\n",
    "    for i in range(M.shape[0]):\n",
    "        s += M[i][i]\n",
    "    return s"
   ]
  },
  {
   "cell_type": "code",
   "execution_count": 204,
   "metadata": {},
   "outputs": [
    {
     "data": {
      "text/plain": [
       "(2, 2)"
      ]
     },
     "execution_count": 204,
     "metadata": {},
     "output_type": "execute_result"
    }
   ],
   "source": [
    "M.shape"
   ]
  },
  {
   "cell_type": "code",
   "execution_count": 198,
   "metadata": {},
   "outputs": [
    {
     "name": "stdout",
     "output_type": "stream",
     "text": [
      "2\n"
     ]
    }
   ],
   "source": [
    "row, col = M.shape\n",
    "print(col)"
   ]
  },
  {
   "cell_type": "code",
   "execution_count": 192,
   "metadata": {},
   "outputs": [
    {
     "data": {
      "text/plain": [
       "11"
      ]
     },
     "execution_count": 192,
     "metadata": {},
     "output_type": "execute_result"
    }
   ],
   "source": [
    "M = np.array([[4,5],[6,7]])\n",
    "my_trace(M)"
   ]
  },
  {
   "cell_type": "code",
   "execution_count": 200,
   "metadata": {},
   "outputs": [
    {
     "data": {
      "text/plain": [
       "1.865750287755835"
      ]
     },
     "execution_count": 200,
     "metadata": {},
     "output_type": "execute_result"
    }
   ],
   "source": [
    "A = np.random.randn(4,4)\n",
    "my_trace(A)"
   ]
  },
  {
   "cell_type": "code",
   "execution_count": 201,
   "metadata": {},
   "outputs": [
    {
     "data": {
      "text/plain": [
       "1.865750287755835"
      ]
     },
     "execution_count": 201,
     "metadata": {},
     "output_type": "execute_result"
    }
   ],
   "source": [
    "A.trace()"
   ]
  },
  {
   "cell_type": "code",
   "execution_count": 202,
   "metadata": {},
   "outputs": [
    {
     "data": {
      "text/plain": [
       "1.865750287755835"
      ]
     },
     "execution_count": 202,
     "metadata": {},
     "output_type": "execute_result"
    }
   ],
   "source": [
    "np.trace(A)"
   ]
  },
  {
   "cell_type": "code",
   "execution_count": 203,
   "metadata": {},
   "outputs": [
    {
     "data": {
      "text/plain": [
       "11"
      ]
     },
     "execution_count": 203,
     "metadata": {},
     "output_type": "execute_result"
    }
   ],
   "source": [
    "Matrix= np.array([[4,5],[6,7]])\n",
    "Matrix.trace()"
   ]
  },
  {
   "cell_type": "markdown",
   "metadata": {},
   "source": [
    "## Convert a vector to Diagonal Matrix"
   ]
  },
  {
   "cell_type": "code",
   "execution_count": 205,
   "metadata": {},
   "outputs": [
    {
     "data": {
      "text/plain": [
       "array([[0., 0., 0.],\n",
       "       [0., 0., 0.],\n",
       "       [0., 0., 0.]])"
      ]
     },
     "execution_count": 205,
     "metadata": {},
     "output_type": "execute_result"
    }
   ],
   "source": [
    "np.zeros((3,3))"
   ]
  },
  {
   "cell_type": "code",
   "execution_count": 206,
   "metadata": {},
   "outputs": [],
   "source": [
    "def vec_to_diag_mat(v):\n",
    "    M = np.zeros((len(v),len(v)))\n",
    "    for i in range(len(v)):\n",
    "        M[i][i] = v[i]\n",
    "    return M"
   ]
  },
  {
   "cell_type": "code",
   "execution_count": 207,
   "metadata": {},
   "outputs": [
    {
     "data": {
      "text/plain": [
       "array([[1., 0., 0.],\n",
       "       [0., 2., 0.],\n",
       "       [0., 0., 3.]])"
      ]
     },
     "execution_count": 207,
     "metadata": {},
     "output_type": "execute_result"
    }
   ],
   "source": [
    "v = np.array([1,2,3])\n",
    "vec_to_diag_mat(v)"
   ]
  },
  {
   "cell_type": "code",
   "execution_count": 208,
   "metadata": {},
   "outputs": [],
   "source": [
    "## Alternate Method but avoid using unnessary loops\n",
    "def diagonal_M(v):\n",
    "    M = np.zeros((len(v),len(v)))\n",
    "    row, col = M.shape\n",
    "    for i in range(row):\n",
    "        for j in range(col):\n",
    "            if i == j:\n",
    "                M[i][i] = v[i]\n",
    "            else:\n",
    "                M[i][j] = 0\n",
    "    return M"
   ]
  },
  {
   "cell_type": "code",
   "execution_count": 209,
   "metadata": {},
   "outputs": [
    {
     "data": {
      "text/plain": [
       "array([[1., 0., 0.],\n",
       "       [0., 2., 0.],\n",
       "       [0., 0., 3.]])"
      ]
     },
     "execution_count": 209,
     "metadata": {},
     "output_type": "execute_result"
    }
   ],
   "source": [
    "diagonal_M(v)"
   ]
  },
  {
   "cell_type": "code",
   "execution_count": 217,
   "metadata": {},
   "outputs": [
    {
     "data": {
      "text/plain": [
       "array([[ 1,  0,  0,  0],\n",
       "       [ 0,  4,  0,  0],\n",
       "       [ 0,  0,  7,  0],\n",
       "       [ 0,  0,  0, -2]])"
      ]
     },
     "execution_count": 217,
     "metadata": {},
     "output_type": "execute_result"
    }
   ],
   "source": [
    "np.diag([1,4,7,-2])"
   ]
  },
  {
   "cell_type": "markdown",
   "metadata": {},
   "source": [
    "## Eigen Value and Eigen Vector"
   ]
  },
  {
   "cell_type": "code",
   "execution_count": 265,
   "metadata": {},
   "outputs": [
    {
     "data": {
      "text/plain": [
       "array([[-0.53788969, -0.54606002, -1.74333802],\n",
       "       [-1.37617603, -0.59451679, -0.37923355],\n",
       "       [-1.16035295,  0.04383767,  1.57838291]])"
      ]
     },
     "execution_count": 265,
     "metadata": {},
     "output_type": "execute_result"
    }
   ],
   "source": [
    "A = np.random.randn(3,3)\n",
    "A"
   ]
  },
  {
   "cell_type": "code",
   "execution_count": 5,
   "metadata": {},
   "outputs": [],
   "source": [
    "def eig_val_vec(M):\n",
    "    return np.linalg.eig(M)"
   ]
  },
  {
   "cell_type": "code",
   "execution_count": 267,
   "metadata": {},
   "outputs": [],
   "source": [
    "values, vectors = eig_val_vec(A)"
   ]
  },
  {
   "cell_type": "code",
   "execution_count": 268,
   "metadata": {},
   "outputs": [
    {
     "data": {
      "text/plain": [
       "array([-1.79311784, -0.09030817,  2.32940245])"
      ]
     },
     "execution_count": 268,
     "metadata": {},
     "output_type": "execute_result"
    }
   ],
   "source": [
    "values"
   ]
  },
  {
   "cell_type": "code",
   "execution_count": 269,
   "metadata": {},
   "outputs": [
    {
     "data": {
      "text/plain": [
       "array([[ 0.61144644,  0.28148204, -0.53393406],\n",
       "       [ 0.76546638, -0.93394302,  0.14322179],\n",
       "       [ 0.20048562,  0.22026869,  0.83330783]])"
      ]
     },
     "execution_count": 269,
     "metadata": {},
     "output_type": "execute_result"
    }
   ],
   "source": [
    "vectors"
   ]
  },
  {
   "cell_type": "markdown",
   "metadata": {},
   "source": [
    "$$ Ax = \\lambda x$$"
   ]
  },
  {
   "cell_type": "code",
   "execution_count": 270,
   "metadata": {},
   "outputs": [
    {
     "data": {
      "text/plain": [
       "array([-1.09639551, -1.37257142, -0.35949434])"
      ]
     },
     "execution_count": 270,
     "metadata": {},
     "output_type": "execute_result"
    }
   ],
   "source": [
    "np.matmul(A, vectors[:,0])"
   ]
  },
  {
   "cell_type": "code",
   "execution_count": 271,
   "metadata": {},
   "outputs": [
    {
     "data": {
      "text/plain": [
       "array([-1.09639551, -1.37257142, -0.35949434])"
      ]
     },
     "execution_count": 271,
     "metadata": {},
     "output_type": "execute_result"
    }
   ],
   "source": [
    "values[0]*vectors[:,0]"
   ]
  },
  {
   "cell_type": "code",
   "execution_count": 276,
   "metadata": {},
   "outputs": [
    {
     "data": {
      "text/plain": [
       "1.0"
      ]
     },
     "execution_count": 276,
     "metadata": {},
     "output_type": "execute_result"
    }
   ],
   "source": [
    "np.linalg.norm(vectors[:,2])"
   ]
  },
  {
   "cell_type": "markdown",
   "metadata": {},
   "source": [
    "## Eigenvalues and Eigenvectors of a random symmetric Matrix"
   ]
  },
  {
   "cell_type": "code",
   "execution_count": 33,
   "metadata": {},
   "outputs": [
    {
     "data": {
      "text/plain": [
       "array([[ 0.40096431, -0.05510215],\n",
       "       [-0.05510215,  0.2423549 ]])"
      ]
     },
     "execution_count": 33,
     "metadata": {},
     "output_type": "execute_result"
    }
   ],
   "source": [
    "A = np.random.randn(2,2)\n",
    "B = A + A.T\n",
    "B"
   ]
  },
  {
   "cell_type": "code",
   "execution_count": 34,
   "metadata": {},
   "outputs": [],
   "source": [
    "values, vectors = eig_val_vec(B)"
   ]
  },
  {
   "cell_type": "code",
   "execution_count": 35,
   "metadata": {},
   "outputs": [
    {
     "data": {
      "text/plain": [
       "array([0.41822815, 0.22509106])"
      ]
     },
     "execution_count": 35,
     "metadata": {},
     "output_type": "execute_result"
    }
   ],
   "source": [
    "values"
   ]
  },
  {
   "cell_type": "code",
   "execution_count": 36,
   "metadata": {},
   "outputs": [
    {
     "data": {
      "text/plain": [
       "array([[ 0.95426074,  0.29897566],\n",
       "       [-0.29897566,  0.95426074]])"
      ]
     },
     "execution_count": 36,
     "metadata": {},
     "output_type": "execute_result"
    }
   ],
   "source": [
    "vectors"
   ]
  },
  {
   "cell_type": "code",
   "execution_count": 37,
   "metadata": {},
   "outputs": [
    {
     "name": "stdout",
     "output_type": "stream",
     "text": [
      "Trace is equal to the sum of the eigen values\n"
     ]
    }
   ],
   "source": [
    "## Avoid comparing numbers with big decimal part\n",
    "## precision ERROR!!\n",
    "if np.trace(B) == sum(values):\n",
    "    print(\"Trace is equal to the sum of the eigen values\")\n",
    "else:\n",
    "    print(\"Trace is not equal to the sum of the eigen values\")"
   ]
  },
  {
   "cell_type": "code",
   "execution_count": 38,
   "metadata": {},
   "outputs": [
    {
     "name": "stdout",
     "output_type": "stream",
     "text": [
      "Trace is equal to the sum of the eigen values\n"
     ]
    }
   ],
   "source": [
    "if (np.trace(B) - sum(values)) < 0.0001:\n",
    "    print(\"Trace is equal to the sum of the eigen values\")\n",
    "else:\n",
    "    print(\"Trace is not equal to the sum of the eigen values\")"
   ]
  },
  {
   "cell_type": "code",
   "execution_count": 39,
   "metadata": {},
   "outputs": [
    {
     "data": {
      "text/plain": [
       "0.6433192156807337"
      ]
     },
     "execution_count": 39,
     "metadata": {},
     "output_type": "execute_result"
    }
   ],
   "source": [
    "sum(values)"
   ]
  },
  {
   "cell_type": "code",
   "execution_count": 40,
   "metadata": {},
   "outputs": [
    {
     "data": {
      "text/plain": [
       "0.6433192156807337"
      ]
     },
     "execution_count": 40,
     "metadata": {},
     "output_type": "execute_result"
    }
   ],
   "source": [
    "np.trace(B)"
   ]
  },
  {
   "cell_type": "code",
   "execution_count": 41,
   "metadata": {},
   "outputs": [
    {
     "data": {
      "text/plain": [
       "0.0941394196805109"
      ]
     },
     "execution_count": 41,
     "metadata": {},
     "output_type": "execute_result"
    }
   ],
   "source": [
    "values[0]*values[1]"
   ]
  },
  {
   "cell_type": "code",
   "execution_count": 42,
   "metadata": {},
   "outputs": [
    {
     "data": {
      "text/plain": [
       "0.09413941968051089"
      ]
     },
     "execution_count": 42,
     "metadata": {},
     "output_type": "execute_result"
    }
   ],
   "source": [
    "np.linalg.det(B)"
   ]
  },
  {
   "cell_type": "code",
   "execution_count": 43,
   "metadata": {},
   "outputs": [
    {
     "data": {
      "text/plain": [
       "0.0"
      ]
     },
     "execution_count": 43,
     "metadata": {},
     "output_type": "execute_result"
    }
   ],
   "source": [
    "np.dot(vectors[:,0],vectors[:,1])"
   ]
  },
  {
   "cell_type": "code",
   "execution_count": 50,
   "metadata": {},
   "outputs": [
    {
     "data": {
      "image/png": "[encoded data removed]",
      "text/plain": [
       "<Figure size 432x288 with 1 Axes>"
      ]
     },
     "metadata": {
      "needs_background": "light"
     },
     "output_type": "display_data"
    }
   ],
   "source": [
    "subplot = plt.subplot()\n",
    "subplot.arrow(0,0,vectors[:,0][0],vectors[:,0][1],head_length=0.2,head_width=0.1,color='blue',length_includes_head=True)\n",
    "subplot.arrow(0,0,vectors[:,1][0],vectors[:,1][1],head_length=0.2,head_width=0.1,color='red',length_includes_head=True)\n",
    "subplot.grid()\n",
    "plt.show()"
   ]
  },
  {
   "cell_type": "markdown",
   "metadata": {},
   "source": [
    "## Positive(semi) Definite and Negative(semi) Definite Matrix"
   ]
  },
  {
   "cell_type": "code",
   "execution_count": 51,
   "metadata": {},
   "outputs": [],
   "source": [
    "A = np.random.rand(3,3)\n",
    "M = A+A.T"
   ]
  },
  {
   "cell_type": "code",
   "execution_count": 52,
   "metadata": {},
   "outputs": [
    {
     "data": {
      "text/plain": [
       "array([[1.62117655, 0.96099846, 1.77777144],\n",
       "       [0.96099846, 1.72855019, 0.91997341],\n",
       "       [1.77777144, 0.91997341, 0.69644901]])"
      ]
     },
     "execution_count": 52,
     "metadata": {},
     "output_type": "execute_result"
    }
   ],
   "source": [
    "M"
   ]
  },
  {
   "cell_type": "code",
   "execution_count": 61,
   "metadata": {},
   "outputs": [],
   "source": [
    "def pos_neg_definite(M):\n",
    "    values, vectors = eig_val_vec(M)\n",
    "    count_positive = 0\n",
    "    count_negative = 0\n",
    "    count_positive_eigen = 0\n",
    "    count_negative_eigen = 0\n",
    "    \n",
    "    for i in range(len(values)):\n",
    "        if values[i] > 0:\n",
    "            count_positive += 1\n",
    "        else:\n",
    "            count_negative += 1\n",
    "        if np.matmul(np.matmul(vectors[:,i].T,M), vectors[:,i]) > 0:  ## x^t * A * x\n",
    "            count_positive_eigen += 1\n",
    "        else:\n",
    "            count_negative_eigen += 1\n",
    "    if count_negative == 0 and count_negative_eigen == 0:\n",
    "        print(\"The given Matrix is a Positive Definite Matrix.\")\n",
    "    elif count_positive == 0 and count_positive_eigen == 0:\n",
    "        print(\"The given Matrix is Negative Definite Matrix.\")\n",
    "    else:\n",
    "        print(\"The given Matrix is neither Postive Definite nor Negative Definite Matrix.\")"
   ]
  },
  {
   "cell_type": "code",
   "execution_count": 58,
   "metadata": {},
   "outputs": [
    {
     "name": "stdout",
     "output_type": "stream",
     "text": [
      "The given Matrix is neither Postive Definite nor Negative Definite Matrix.\n"
     ]
    }
   ],
   "source": [
    "pos_neg_definite(M)"
   ]
  },
  {
   "cell_type": "code",
   "execution_count": 148,
   "metadata": {},
   "outputs": [
    {
     "data": {
      "text/plain": [
       "array([[ 2, -1,  0],\n",
       "       [-1,  2, -1],\n",
       "       [ 0, -1,  2]])"
      ]
     },
     "execution_count": 148,
     "metadata": {},
     "output_type": "execute_result"
    }
   ],
   "source": [
    "M = np.array([[2,-1,0],[-1,2,-1],[0,-1,2]])\n",
    "M"
   ]
  },
  {
   "cell_type": "code",
   "execution_count": 149,
   "metadata": {},
   "outputs": [
    {
     "name": "stdout",
     "output_type": "stream",
     "text": [
      "The given Matrix is a Positive Definite Matrix.\n"
     ]
    }
   ],
   "source": [
    "pos_neg_definite(M)"
   ]
  },
  {
   "cell_type": "markdown",
   "metadata": {},
   "source": [
    "## Matrix Diagonalization"
   ]
  },
  {
   "cell_type": "code",
   "execution_count": 150,
   "metadata": {},
   "outputs": [],
   "source": [
    "A = np.random.randn(5,5)\n",
    "M = A + A.T"
   ]
  },
  {
   "cell_type": "code",
   "execution_count": 151,
   "metadata": {},
   "outputs": [
    {
     "data": {
      "text/plain": [
       "array([[-2.7195427 ,  1.32521684, -0.7830147 , -0.02768159,  0.47431044],\n",
       "       [ 1.32521684,  0.3899087 , -0.33882821,  1.38985788,  1.24202521],\n",
       "       [-0.7830147 , -0.33882821, -2.31379272, -0.58536226,  1.5269137 ],\n",
       "       [-0.02768159,  1.38985788, -0.58536226,  0.27820237,  0.65956398],\n",
       "       [ 0.47431044,  1.24202521,  1.5269137 ,  0.65956398, -0.16367772]])"
      ]
     },
     "execution_count": 151,
     "metadata": {},
     "output_type": "execute_result"
    }
   ],
   "source": [
    "M   ## LHS"
   ]
  },
  {
   "cell_type": "code",
   "execution_count": 152,
   "metadata": {},
   "outputs": [],
   "source": [
    "values, vectors = eig_val_vec(M)"
   ]
  },
  {
   "cell_type": "code",
   "execution_count": 153,
   "metadata": {},
   "outputs": [
    {
     "data": {
      "text/plain": [
       "array([ 2.67149356, -3.98512965, -2.81425391, -0.73615768,  0.33514562])"
      ]
     },
     "execution_count": 153,
     "metadata": {},
     "output_type": "execute_result"
    }
   ],
   "source": [
    "values"
   ]
  },
  {
   "cell_type": "code",
   "execution_count": 154,
   "metadata": {},
   "outputs": [
    {
     "data": {
      "text/plain": [
       "array([[ 2.06844917e-01,  6.45617371e-01,  6.13377017e-01,\n",
       "         3.97133699e-01, -8.02922852e-02],\n",
       "       [ 6.88263458e-01, -1.06714591e-01, -4.74855141e-01,\n",
       "         5.22641642e-01, -1.27529281e-01],\n",
       "       [-5.85793614e-04,  6.52227885e-01, -4.95976495e-01,\n",
       "        -1.84226892e-01,  5.42831660e-01],\n",
       "       [ 5.23555912e-01,  1.80706982e-01,  4.22837102e-02,\n",
       "        -7.16939265e-01, -4.21241465e-01],\n",
       "       [ 4.57599669e-01, -3.37244686e-01,  3.87944112e-01,\n",
       "        -1.45564701e-01,  7.10759347e-01]])"
      ]
     },
     "execution_count": 154,
     "metadata": {},
     "output_type": "execute_result"
    }
   ],
   "source": [
    "vectors"
   ]
  },
  {
   "cell_type": "code",
   "execution_count": 155,
   "metadata": {},
   "outputs": [
    {
     "data": {
      "text/plain": [
       "array([[ 2.67149356,  0.        ,  0.        ,  0.        ,  0.        ],\n",
       "       [ 0.        , -3.98512965,  0.        ,  0.        ,  0.        ],\n",
       "       [ 0.        ,  0.        , -2.81425391,  0.        ,  0.        ],\n",
       "       [ 0.        ,  0.        ,  0.        , -0.73615768,  0.        ],\n",
       "       [ 0.        ,  0.        ,  0.        ,  0.        ,  0.33514562]])"
      ]
     },
     "execution_count": 155,
     "metadata": {},
     "output_type": "execute_result"
    }
   ],
   "source": [
    "M_diag = np.diag(values)\n",
    "M_diag"
   ]
  },
  {
   "cell_type": "code",
   "execution_count": 156,
   "metadata": {},
   "outputs": [],
   "source": [
    "Q = vectors"
   ]
  },
  {
   "cell_type": "code",
   "execution_count": 157,
   "metadata": {},
   "outputs": [
    {
     "data": {
      "text/plain": [
       "array([[-2.7195427 ,  1.32521684, -0.7830147 , -0.02768159,  0.47431044],\n",
       "       [ 1.32521684,  0.3899087 , -0.33882821,  1.38985788,  1.24202521],\n",
       "       [-0.7830147 , -0.33882821, -2.31379272, -0.58536226,  1.5269137 ],\n",
       "       [-0.02768159,  1.38985788, -0.58536226,  0.27820237,  0.65956398],\n",
       "       [ 0.47431044,  1.24202521,  1.5269137 ,  0.65956398, -0.16367772]])"
      ]
     },
     "execution_count": 157,
     "metadata": {},
     "output_type": "execute_result"
    }
   ],
   "source": [
    "np.matmul(np.matmul(Q,M_diag), Q.T)   ## RHS of the equation"
   ]
  },
  {
   "cell_type": "code",
   "execution_count": 158,
   "metadata": {},
   "outputs": [
    {
     "data": {
      "text/plain": [
       "array([[ 2.06844917e-01,  6.88263458e-01, -5.85793614e-04,\n",
       "         5.23555912e-01,  4.57599669e-01],\n",
       "       [ 6.45617371e-01, -1.06714591e-01,  6.52227885e-01,\n",
       "         1.80706982e-01, -3.37244686e-01],\n",
       "       [ 6.13377017e-01, -4.74855141e-01, -4.95976495e-01,\n",
       "         4.22837102e-02,  3.87944112e-01],\n",
       "       [ 3.97133699e-01,  5.22641642e-01, -1.84226892e-01,\n",
       "        -7.16939265e-01, -1.45564701e-01],\n",
       "       [-8.02922852e-02, -1.27529281e-01,  5.42831660e-01,\n",
       "        -4.21241465e-01,  7.10759347e-01]])"
      ]
     },
     "execution_count": 158,
     "metadata": {},
     "output_type": "execute_result"
    }
   ],
   "source": [
    "Q.T"
   ]
  },
  {
   "cell_type": "code",
   "execution_count": 159,
   "metadata": {},
   "outputs": [
    {
     "data": {
      "text/plain": [
       "array([[ 2.06844917e-01,  6.88263458e-01, -5.85793614e-04,\n",
       "         5.23555912e-01,  4.57599669e-01],\n",
       "       [ 6.45617371e-01, -1.06714591e-01,  6.52227885e-01,\n",
       "         1.80706982e-01, -3.37244686e-01],\n",
       "       [ 6.13377017e-01, -4.74855141e-01, -4.95976495e-01,\n",
       "         4.22837102e-02,  3.87944112e-01],\n",
       "       [ 3.97133699e-01,  5.22641642e-01, -1.84226892e-01,\n",
       "        -7.16939265e-01, -1.45564701e-01],\n",
       "       [-8.02922852e-02, -1.27529281e-01,  5.42831660e-01,\n",
       "        -4.21241465e-01,  7.10759347e-01]])"
      ]
     },
     "execution_count": 159,
     "metadata": {},
     "output_type": "execute_result"
    }
   ],
   "source": [
    "np.linalg.inv(Q)"
   ]
  },
  {
   "cell_type": "code",
   "execution_count": 160,
   "metadata": {},
   "outputs": [
    {
     "data": {
      "text/plain": [
       "-1.0000000000000004"
      ]
     },
     "execution_count": 160,
     "metadata": {},
     "output_type": "execute_result"
    }
   ],
   "source": [
    "np.linalg.det(Q)"
   ]
  },
  {
   "cell_type": "code",
   "execution_count": 161,
   "metadata": {},
   "outputs": [
    {
     "data": {
      "image/png": "[encoded data removed]",
      "text/plain": [
       "<Figure size 432x288 with 1 Axes>"
      ]
     },
     "metadata": {
      "needs_background": "light"
     },
     "output_type": "display_data"
    }
   ],
   "source": [
    "plt.figure()\n",
    "plt.stem(values)\n",
    "plt.title(\"Spectrum of Eigen Values\")\n",
    "plt.xlabel(\"indices\")\n",
    "plt.ylabel(\"Eigen-values\")\n",
    "plt.show()"
   ]
  },
  {
   "cell_type": "code",
   "execution_count": 28,
   "metadata": {},
   "outputs": [
    {
     "data": {
      "text/plain": [
       "2"
      ]
     },
     "execution_count": 28,
     "metadata": {},
     "output_type": "execute_result"
    }
   ],
   "source": [
    "import numpy as np\n",
    "import scipy.spatial\n",
    "M = np.array( [[1/1.414,1/2,0,-1/2,-1/1.414,-1/2,0],\n",
    "              \n",
    "              [0, 1/2, 1/1.414,-1/2,0,-1/2,-1/1.414]])\n",
    "M.ndim"
   ]
  },
  {
   "cell_type": "code",
   "execution_count": 27,
   "metadata": {},
   "outputs": [
    {
     "name": "stdout",
     "output_type": "stream",
     "text": [
      "[[ 0.70721358  0.5         0.         -0.5        -0.70721358 -0.5\n",
      "   0.        ]\n",
      " [ 0.          0.5         0.70721358 -0.5         0.         -0.5\n",
      "  -0.70721358]]\n"
     ]
    }
   ],
   "source": [
    "print(M)"
   ]
  },
  {
   "cell_type": "code",
   "execution_count": 29,
   "metadata": {},
   "outputs": [
    {
     "data": {
      "text/plain": [
       "0.24494111507389515"
      ]
     },
     "execution_count": 29,
     "metadata": {},
     "output_type": "execute_result"
    }
   ],
   "source": [
    "np.var(M[0])"
   ]
  },
  {
   "cell_type": "code",
   "execution_count": 30,
   "metadata": {},
   "outputs": [
    {
     "data": {
      "text/plain": [
       "0.24494111507389515"
      ]
     },
     "execution_count": 30,
     "metadata": {},
     "output_type": "execute_result"
    }
   ],
   "source": [
    "np.var(M[1])"
   ]
  },
  {
   "cell_type": "code",
   "execution_count": 31,
   "metadata": {},
   "outputs": [
    {
     "data": {
      "text/plain": [
       "-0.07142857142857142"
      ]
     },
     "execution_count": 31,
     "metadata": {},
     "output_type": "execute_result"
    }
   ],
   "source": [
    "np.mean(M[0])"
   ]
  },
  {
   "cell_type": "code",
   "execution_count": 32,
   "metadata": {},
   "outputs": [
    {
     "data": {
      "text/plain": [
       "-0.07142857142857142"
      ]
     },
     "execution_count": 32,
     "metadata": {},
     "output_type": "execute_result"
    }
   ],
   "source": [
    "np.mean(M[1])"
   ]
  },
  {
   "cell_type": "code",
   "execution_count": 33,
   "metadata": {},
   "outputs": [
    {
     "data": {
      "text/plain": [
       "array([[0.28576463, 0.11904762],\n",
       "       [0.11904762, 0.28576463]])"
      ]
     },
     "execution_count": 33,
     "metadata": {},
     "output_type": "execute_result"
    }
   ],
   "source": [
    "C=np.cov(M)\n",
    "C"
   ]
  },
  {
   "cell_type": "code",
   "execution_count": 34,
   "metadata": {},
   "outputs": [
    {
     "data": {
      "text/plain": [
       "-0.07142857142857142"
      ]
     },
     "execution_count": 34,
     "metadata": {},
     "output_type": "execute_result"
    }
   ],
   "source": [
    "np.mean(M)"
   ]
  },
  {
   "cell_type": "code",
   "execution_count": 94,
   "metadata": {},
   "outputs": [
    {
     "data": {
      "text/plain": [
       "array([[-1.17254138, -1.72025263],\n",
       "       [-1.64680336, -0.66863792]])"
      ]
     },
     "execution_count": 94,
     "metadata": {},
     "output_type": "execute_result"
    }
   ],
   "source": [
    "x=np.array((A[0],A[1]))\n",
    "x"
   ]
  },
  {
   "cell_type": "code",
   "execution_count": 96,
   "metadata": {},
   "outputs": [],
   "source": [
    "y=x[0]-np.mean(M)"
   ]
  },
  {
   "cell_type": "code",
   "execution_count": 97,
   "metadata": {},
   "outputs": [],
   "source": [
    "z=y.T"
   ]
  },
  {
   "cell_type": "code",
   "execution_count": 98,
   "metadata": {},
   "outputs": [],
   "source": [
    "cinv=np.linalg.inv(C)"
   ]
  },
  {
   "cell_type": "code",
   "execution_count": 99,
   "metadata": {},
   "outputs": [
    {
     "data": {
      "text/plain": [
       "array([[ 4.23423448, -1.76395352],\n",
       "       [-1.76395352,  4.23423448]])"
      ]
     },
     "execution_count": 99,
     "metadata": {},
     "output_type": "execute_result"
    }
   ],
   "source": [
    "cinv"
   ]
  },
  {
   "cell_type": "code",
   "execution_count": 100,
   "metadata": {},
   "outputs": [],
   "source": [
    "f=np.dot(z,cinv)"
   ]
  },
  {
   "cell_type": "code",
   "execution_count": null,
   "metadata": {},
   "outputs": [],
   "source": [
    "f1=np.dot(f,y)\n",
    "f1"
   ]
  },
  {
   "cell_type": "code",
   "execution_count": 92,
   "metadata": {},
   "outputs": [],
   "source": [
    "\n",
    "A=-1.414 +0.5 * np.random.randn(2, 2)\n",
    "\n",
    "    "
   ]
  },
  {
   "cell_type": "code",
   "execution_count": 95,
   "metadata": {},
   "outputs": [
    {
     "data": {
      "text/plain": [
       "array([[-1.17254138, -1.72025263],\n",
       "       [-1.64680336, -0.66863792]])"
      ]
     },
     "execution_count": 95,
     "metadata": {},
     "output_type": "execute_result"
    }
   ],
   "source": [
    "A"
   ]
  },
  {
   "cell_type": "code",
   "execution_count": 143,
   "metadata": {},
   "outputs": [
    {
     "data": {
      "text/plain": [
       "1"
      ]
     },
     "execution_count": 143,
     "metadata": {},
     "output_type": "execute_result"
    }
   ],
   "source": [
    "A = np.array([[2,3,5],[1,-4,1],[0,0,3]])\n",
    "A.diagonal().sum()"
   ]
  },
  {
   "cell_type": "code",
   "execution_count": 148,
   "metadata": {},
   "outputs": [
    {
     "data": {
      "text/plain": [
       "1"
      ]
     },
     "execution_count": 148,
     "metadata": {},
     "output_type": "execute_result"
    }
   ],
   "source": [
    "n = len(A)\n",
    "res = [A[i][n-i-1] for i in range(n)]\n",
    "res=np.array(res).sum()\n",
    "res"
   ]
  },
  {
   "cell_type": "code",
   "execution_count": 129,
   "metadata": {},
   "outputs": [
    {
     "data": {
      "text/plain": [
       "1"
      ]
     },
     "execution_count": 129,
     "metadata": {},
     "output_type": "execute_result"
    }
   ],
   "source": [
    "z.sum()"
   ]
  },
  {
   "cell_type": "code",
   "execution_count": 150,
   "metadata": {},
   "outputs": [
    {
     "name": "stdout",
     "output_type": "stream",
     "text": [
      "1\n",
      "1\n"
     ]
    }
   ],
   "source": [
    "def DiagCalc(A):\n",
    "    n=len(A)\n",
    "    res = [A[i][n-i-1] for i in range(n)]\n",
    "    print(A.diagonal().sum())\n",
    "    print(np.array(res).sum())\n",
    "    \n",
    "DiagCalc(A) "
   ]
  },
  {
   "cell_type": "code",
   "execution_count": null,
   "metadata": {},
   "outputs": [],
   "source": [
    "np"
   ]
  },
  {
   "cell_type": "code",
   "execution_count": null,
   "metadata": {},
   "outputs": [],
   "source": [
    "\n",
    "\n",
    "\n",
    "def snake(M):\n",
    "    for i in range(len(M)):\n",
    "        for j in range(len(M)):\n",
    "                print(M[i][j],end='')\n",
    "return M         \n",
    "                \n",
    "                \n",
    "snake(M)          \n",
    "                \n",
    "            \n",
    "                \n",
    "    \n",
    "            \n",
    "             \n",
    "    "
   ]
  },
  {
   "cell_type": "code",
   "execution_count": 32,
   "metadata": {},
   "outputs": [
    {
     "data": {
      "text/plain": [
       "[[1, 2, -3], [7, -1, 2], [2, 5, 6]]"
      ]
     },
     "execution_count": 32,
     "metadata": {},
     "output_type": "execute_result"
    }
   ],
   "source": []
  },
  {
   "cell_type": "code",
   "execution_count": 27,
   "metadata": {},
   "outputs": [],
   "source": [
    "\n",
    "     "
   ]
  },
  {
   "cell_type": "code",
   "execution_count": null,
   "metadata": {},
   "outputs": [],
   "source": []
  },
  {
   "cell_type": "code",
   "execution_count": 69,
   "metadata": {},
   "outputs": [
    {
     "name": "stdout",
     "output_type": "stream",
     "text": [
      "3\n"
     ]
    },
    {
     "data": {
      "text/plain": [
       "[1, 2, -3, 2, -1, 7, 2, 5, 6]"
      ]
     },
     "execution_count": 69,
     "metadata": {},
     "output_type": "execute_result"
    }
   ],
   "source": [
    "import numpy as np\n",
    "M= [[1,2,-3],[7,-1,2],[2,5,6]]\n",
    "print(len(M[1]))\n",
    "\n",
    "def snake (M):\n",
    "    result=[[0]*len(M) for i in range(len (M))]\n",
    "    for i in range(0,len(M)):\n",
    "        if i%2==0:\n",
    "            for j in range(0,len(M)):\n",
    "                result.append(M[i][j])\n",
    "        else:\n",
    "            for j in range(len(M)-1,-1,-1):\n",
    "                result.append(M[i][j])  \n",
    "    return result[len(M)::]\n",
    "\n",
    "snake(M)    \n",
    "\n",
    "\n",
    "        \n",
    "                   \n",
    "                   \n",
    "   "
   ]
  },
  {
   "cell_type": "code",
   "execution_count": 51,
   "metadata": {},
   "outputs": [],
   "source": [
    "def snake(M):\n",
    "    \n",
    "    \n",
    "        correct(M)\n",
    "    \n",
    "        ncorrect(M)\n",
    "                   \n",
    "                   \n",
    "                   "
   ]
  },
  {
   "cell_type": "code",
   "execution_count": 50,
   "metadata": {},
   "outputs": [
    {
     "name": "stdout",
     "output_type": "stream",
     "text": [
      "-3 2 1 2 -1 7 6 5 2 "
     ]
    }
   ],
   "source": [
    "def ncorrect(M):\n",
    "    for i in range(0,len(M)):\n",
    "         \n",
    "        \n",
    "ncorrect(M)"
   ]
  },
  {
   "cell_type": "code",
   "execution_count": 99,
   "metadata": {},
   "outputs": [
    {
     "name": "stdout",
     "output_type": "stream",
     "text": [
      "(3, 2, 1)\n"
     ]
    },
    {
     "data": {
      "text/plain": [
       "3"
      ]
     },
     "execution_count": 99,
     "metadata": {},
     "output_type": "execute_result"
    }
   ],
   "source": [
    "T=(3,2,1)\n",
    "print(T)\n",
    "len(T)"
   ]
  },
  {
   "cell_type": "code",
   "execution_count": 111,
   "metadata": {},
   "outputs": [
    {
     "data": {
      "text/plain": [
       "(3, 2, 1, 9, 4, 1)"
      ]
     },
     "execution_count": 111,
     "metadata": {},
     "output_type": "execute_result"
    }
   ],
   "source": [
    "\n",
    "def squareT(T):\n",
    "    S=[]\n",
    "    for i in range(0,len(T)):\n",
    "        S.append(T[i]**2)\n",
    "    return T+tuple(S)\n",
    "        \n",
    "        \n",
    "squareT(T)      "
   ]
  },
  {
   "cell_type": "code",
   "execution_count": 115,
   "metadata": {},
   "outputs": [
    {
     "name": "stdout",
     "output_type": "stream",
     "text": [
      "[1, 2, 3, 4, 5, 0, 0]\n"
     ]
    }
   ],
   "source": [
    "L=[1,2,0,3,4,0,5]\n",
    "def shift(L):\n",
    "    N=[]\n",
    "    N1=[]\n",
    "    for i in range(len(L)):\n",
    "        if L[i]==0:\n",
    "            N.append(L[i])\n",
    "        else:\n",
    "            N1.append(L[i])\n",
    "    return N1+N\n",
    "\n",
    "print(shift(L))"
   ]
  },
  {
   "cell_type": "code",
   "execution_count": 119,
   "metadata": {},
   "outputs": [
    {
     "name": "stdout",
     "output_type": "stream",
     "text": [
      "enterghy\n",
      "g\n",
      "h\n",
      "y\n"
     ]
    }
   ],
   "source": [
    "M=input(\"enter\")\n",
    "for i in range(len(M)):\n",
    "    if M[i]=="
   ]
  },
  {
   "cell_type": "code",
   "execution_count": null,
   "metadata": {},
   "outputs": [],
   "source": []
  },
  {
   "cell_type": "code",
   "execution_count": null,
   "metadata": {},
   "outputs": [],
   "source": []
  }
 ],
 "metadata": {
  "interpreter": {
   "hash": "e0105ac9406840dc292ffde5e398b59ab58478a652bb16a9603dc66a7e7ff2c1"
  },
  "kernelspec": {
   "display_name": "Python 3 (ipykernel)",
   "language": "python",
   "name": "python3"
  },
  "language_info": {
   "codemirror_mode": {
    "name": "ipython",
    "version": 3
   },
   "file_extension": ".py",
   "mimetype": "text/x-python",
   "name": "python",
   "nbconvert_exporter": "python",
   "pygments_lexer": "ipython3",
   "version": "3.9.12"
  }
 },
 "nbformat": 4,
 "nbformat_minor": 2
}
